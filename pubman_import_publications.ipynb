{
 "cells": [
  {
   "cell_type": "markdown",
   "metadata": {},
   "source": []
  },
  {
   "cell_type": "code",
   "execution_count": 1,
   "metadata": {},
   "outputs": [
    {
     "name": "stderr",
     "output_type": "stream",
     "text": [
      "C:\\Users\\d.mentock\\AppData\\Local\\Packages\\PythonSoftwareFoundation.Python.3.11_qbz5n2kfra8p0\\LocalCache\\local-packages\\Python311\\site-packages\\openpyxl\\worksheet\\_reader.py:329: UserWarning: Data Validation extension is not supported and will be removed\n",
      "  warn(msg)\n",
      "C:\\Users\\d.mentock\\AppData\\Local\\Packages\\PythonSoftwareFoundation.Python.3.11_qbz5n2kfra8p0\\LocalCache\\local-packages\\Python311\\site-packages\\openpyxl\\worksheet\\_reader.py:329: UserWarning: Data Validation extension is not supported and will be removed\n",
      "  warn(msg)\n"
     ]
    },
    {
     "name": "stdout",
     "output_type": "stream",
     "text": [
      "generating requests for \"Using DAMASK as material model in MSC Marc\"\n",
      "Creating entry: {'metadata.title': 'Using DAMASK as material model in MSC Marc', 'metadata.event.title': 'Marc Community Meeting'}\n",
      "Creating new publication: '{'metadata.title': 'Using DAMASK as material model in MSC Marc', 'metadata.event.title': 'Marc Community Meeting'}'\n"
     ]
    }
   ],
   "source": [
    "from pubman_manager import PubManAPI\n",
    "import yaml\n",
    "\n",
    "from dotenv import load_dotenv\n",
    "import os\n",
    "\n",
    "load_dotenv()\n",
    "\n",
    "username = os.getenv(\"USERNAME\")\n",
    "password = os.getenv(\"PASSWORD\")\n",
    "\n",
    "api = PubManAPI(username, password)\n",
    "# api.process_excel_and_create_publications('Talks_Tim.xlsx', submit_items=True)\n",
    "# api.process_excel_and_create_publications('tt.xlsx', submit_items=False)\n",
    "# api.process_excel_and_create_publications('Talks_Mathias.xlsx', submit_items=True)\n",
    "# api.process_excel_and_create_publications('Talks_Yue.xlsx', submit_items=True)\n",
    "# api.process_excel_and_create_publications('Talks_Leonardo.xlsx', submit_items=True)\n",
    "# api.process_excel_and_create_publications('Talks_Daniel.xlsx', create_items=False)\n",
    "api.create_publications('Publications Templates/test.xlsx', submit_items=False)\n"
   ]
  },
  {
   "cell_type": "code",
   "execution_count": null,
   "metadata": {},
   "outputs": [],
   "source": [
    "# api.search_publication_by_criteria({\n",
    "#   \"metadata.title\": \"Visualizing radiation-induced damage by Hydrogen/Deuterium\",\n",
    "#   \"metadata.event.title\": \"Conference talk at DPG Spring Meeting 2023 (SKM23)\",\n",
    "# })"
   ]
  }
 ],
 "metadata": {
  "kernelspec": {
   "display_name": "Python 3",
   "language": "python",
   "name": "python3"
  },
  "language_info": {
   "codemirror_mode": {
    "name": "ipython",
    "version": 3
   },
   "file_extension": ".py",
   "mimetype": "text/x-python",
   "name": "python",
   "nbconvert_exporter": "python",
   "pygments_lexer": "ipython3",
   "version": "3.11.9"
  }
 },
 "nbformat": 4,
 "nbformat_minor": 2
}
