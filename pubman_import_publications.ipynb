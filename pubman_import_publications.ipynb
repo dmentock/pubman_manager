{
 "cells": [
  {
   "cell_type": "code",
   "execution_count": 1,
   "metadata": {},
   "outputs": [
    {
     "name": "stderr",
     "output_type": "stream",
     "text": [
      "C:\\Users\\d.mentock\\AppData\\Local\\Packages\\PythonSoftwareFoundation.Python.3.11_qbz5n2kfra8p0\\LocalCache\\local-packages\\Python311\\site-packages\\fuzzywuzzy\\fuzz.py:11: UserWarning: Using slow pure-python SequenceMatcher. Install python-Levenshtein to remove this warning\n",
      "  warnings.warn('Using slow pure-python SequenceMatcher. Install python-Levenshtein to remove this warning')\n",
      "C:\\Users\\d.mentock\\AppData\\Local\\Packages\\PythonSoftwareFoundation.Python.3.11_qbz5n2kfra8p0\\LocalCache\\local-packages\\Python311\\site-packages\\openpyxl\\worksheet\\_reader.py:329: UserWarning: Data Validation extension is not supported and will be removed\n",
      "  warn(msg)\n",
      "C:\\Users\\d.mentock\\AppData\\Local\\Packages\\PythonSoftwareFoundation.Python.3.11_qbz5n2kfra8p0\\LocalCache\\local-packages\\Python311\\site-packages\\openpyxl\\worksheet\\_reader.py:329: UserWarning: Data Validation extension is not supported and will be removed\n",
      "  warn(msg)\n"
     ]
    },
    {
     "name": "stdout",
     "output_type": "stream",
     "text": [
      "Generating requests for \"Influence of Mg on tensile deformation behavior of high Mg-content Al-Mg alloys\"\n",
      "pdf_path c:\\Users\\d.mentock\\Music\\pubman_manager\\files\\10.1016_j.ijplas.2022.103405.pdf\n",
      "File uploaded successfully. File ID: 4394189\n",
      "Creating entry: {'metadata.identifiers.id': '10.1016/j.ijplas.2022.103405'}\n",
      "Creating new publication: '{'metadata.identifiers.id': '10.1016/j.ijplas.2022.103405'}'\n",
      "request_json {'context': {'objectId': 'ctx_2019354', 'name': '', 'lastModificationDate': '', 'creationDate': '', 'creator': {'objectId': 'user_1944725'}}, 'creator': {'objectId': 'user_1944725'}, 'modifier': {'objectId': 'user_1944725'}, 'localTags': [], 'metadata': {'title': 'Influence of Mg on tensile deformation behavior of high Mg-content Al-Mg alloys', 'creators': [{'person': {'givenName': 'Dengshan', 'familyName': 'Zhou', 'organizations': [{'name': 'School of Materials Science and Engineering, Northeastern University, Shenyang 110819, China', 'identifier': 'ou_persistent22', 'identifierPath': ['']}, {'name': 'Mechanism-based Alloy Design, Microstructure Physics and Alloy Design, Max-Planck-Institut für Eisenforschung GmbH, Max Planck Society', 'identifier': 'ou_1863383', 'identifierPath': ['']}], 'identifier': {'id': '/persons/resource/persons257173', 'type': 'CONE'}}, 'role': 'AUTHOR', 'type': 'PERSON'}, {'person': {'givenName': 'Xiuzhen', 'familyName': 'Zhang', 'organizations': [{'name': 'School of Materials Science and Engineering, Northeastern University, Shenyang 110819, China', 'identifier': 'ou_persistent22', 'identifierPath': ['']}], 'identifier': {'id': '/persons/resource/persons257242', 'type': 'CONE'}}, 'role': 'AUTHOR', 'type': 'PERSON'}, {'person': {'givenName': 'Hao', 'familyName': 'Wang', 'organizations': [{'name': 'School of Materials Science and Engineering, Northeastern University, Shenyang 110819, China', 'identifier': 'ou_persistent22', 'identifierPath': ['']}], 'identifier': None}, 'role': 'AUTHOR', 'type': 'PERSON'}, {'person': {'givenName': 'Yue', 'familyName': 'Li', 'organizations': [{'name': 'Atom Probe Tomography, Microstructure Physics and Alloy Design, Max-Planck-Institut für Eisenforschung GmbH, Max Planck Society', 'identifier': 'ou_1863384', 'identifierPath': ['']}], 'identifier': {'id': '/persons/resource/persons249274', 'type': 'CONE'}}, 'role': 'AUTHOR', 'type': 'PERSON'}, {'person': {'givenName': 'Binhan', 'familyName': 'Sun', 'organizations': [{'name': 'Key Laboratory of Pressure Systems and Safety, Ministry of Education, School of Mechanical and Power Engineering, East China University of Science and Technology, Shanghai 200237, China', 'identifier': 'ou_persistent22', 'identifierPath': ['']}], 'identifier': {'id': '/persons/resource/persons229256', 'type': 'CONE'}}, 'role': 'AUTHOR', 'type': 'PERSON'}, {'person': {'givenName': 'Deliang', 'familyName': 'Zhang', 'organizations': [{'name': 'School of Materials Science and Engineering, Northeastern University, Shenyang 110819, China', 'identifier': 'ou_persistent22', 'identifierPath': ['']}, {'name': 'State Key Laboratory of Rolling and Automation, Northeastern University, Shenyang 110819, China', 'identifier': 'ou_persistent22', 'identifierPath': ['']}], 'identifier': {'id': '/persons/resource/persons257249', 'type': 'CONE'}}, 'role': 'AUTHOR', 'type': 'PERSON'}], 'dateCreated': '2022-08-24', 'datePublishedInPrint': '2022', 'datePublishedOnline': None, 'genre': 'ARTICLE', 'identifiers': [{'id': '10.1016/j.ijplas.2022.103405', 'type': 'DOI'}], 'languages': ['eng'], 'sources': [{'alternativeTitles': [{'type': 'ABBREVIATION', 'value': 'Int. J. Plast.'}], 'genre': 'JOURNAL', 'title': 'International Journal of Plasticity', 'publishingInfo': {'place': 'New York', 'publisher': 'Pergamon'}, 'volume': 157, 'issue': '', 'startPage': None, 'endPage': None, 'totalNumberOfPages': None, 'identifiers': [{'type': 'CONE', 'id': '/journals/resource/954925544230'}, {'type': 'ISSN', 'id': '0749-6419'}]}], 'reviewMethod': 'PEER'}, 'files': [{'objectId': 4394189, 'visibility': 'PUBLIC', 'contentCategory': 'publisher-version', 'storage': 'INTERNAL_MANAGED', 'mimeType': 'application/pdf', 'name': '10.1016_j.ijplas.2022.103405.pdf', 'metadata': {'contentCategory': 'publisher-version', 'title': '10.1016_j.ijplas.2022.103405.pdf', 'license': 'https://www.elsevier.com/tdm/userlicense/1.0/', 'copyrightDate': 2022.0, 'formats': {}}}]}\n"
     ]
    },
    {
     "ename": "Exception",
     "evalue": "('Failed to create item', 400, '{\\n  \"timestamp\" : \"2024-08-09T18:38:47.246476433\",\\n  \"status\" : 400,\\n  \"error\" : \"Bad Request\",\\n  \"exception\" : \"de.mpg.mpdl.inge.service.exceptions.IngeApplicationException\",\\n  \"message\" : \"Invalid metadata\",\\n  \"cause\" : {\\n    \"exception\" : \"de.mpg.mpdl.inge.inge_validation.exception.ValidationException\",\\n    \"message\" : \"Validation result [content=DateFormatIncorrect, element=copyrightDate, severity=ERROR] \"\\n  }\\n}')",
     "output_type": "error",
     "traceback": [
      "\u001b[1;31m---------------------------------------------------------------------------\u001b[0m",
      "\u001b[1;31mException\u001b[0m                                 Traceback (most recent call last)",
      "Cell \u001b[1;32mIn[1], line 19\u001b[0m\n\u001b[0;32m     12\u001b[0m api \u001b[38;5;241m=\u001b[39m PubmanCreator(username, password)\n\u001b[0;32m     13\u001b[0m \u001b[38;5;66;03m# api.process_excel_and_create_publications('Talks_Tim.xlsx', submit_items=True)\u001b[39;00m\n\u001b[0;32m     14\u001b[0m \u001b[38;5;66;03m# api.process_excel_and_create_publications('tt.xlsx', submit_items=False)\u001b[39;00m\n\u001b[0;32m     15\u001b[0m \u001b[38;5;66;03m# api.process_excel_and_create_publications('Talks_Mathias.xlsx', submit_items=True)\u001b[39;00m\n\u001b[0;32m     16\u001b[0m \u001b[38;5;66;03m# api.process_excel_and_create_publications('Talks_Yue.xlsx', submit_items=True)\u001b[39;00m\n\u001b[0;32m     17\u001b[0m \u001b[38;5;66;03m# api.process_excel_and_create_publications('Talks_Leonardo.xlsx', submit_items=True)\u001b[39;00m\n\u001b[0;32m     18\u001b[0m \u001b[38;5;66;03m# api.process_excel_and_create_publications('Talks_Daniel.xlsx', create_items=False)\u001b[39;00m\n\u001b[1;32m---> 19\u001b[0m \u001b[43mapi\u001b[49m\u001b[38;5;241;43m.\u001b[39;49m\u001b[43mcreate_publications\u001b[49m\u001b[43m(\u001b[49m\u001b[43mPUBLICATIONS_DIR\u001b[49m\u001b[43m \u001b[49m\u001b[38;5;241;43m/\u001b[39;49m\u001b[43m \u001b[49m\u001b[38;5;124;43m'\u001b[39;49m\u001b[38;5;124;43mtest_dois.xlsx\u001b[39;49m\u001b[38;5;124;43m'\u001b[39;49m\u001b[43m,\u001b[49m\u001b[43m \u001b[49m\u001b[43msubmit_items\u001b[49m\u001b[38;5;241;43m=\u001b[39;49m\u001b[38;5;28;43;01mFalse\u001b[39;49;00m\u001b[43m)\u001b[49m\n\u001b[0;32m     21\u001b[0m \u001b[38;5;66;03m# api.upload_pdf(FILES_DIR / '10.1016_j.ijplas.2022.103405.pdf')\u001b[39;00m\n\u001b[0;32m     22\u001b[0m \u001b[38;5;66;03m# api.search_file_by_title('10.1016_j.ijplas.2022.103405.pdf')\u001b[39;00m\n\u001b[0;32m     23\u001b[0m \u001b[38;5;66;03m# api.fetch_sample_document()\u001b[39;00m\n",
      "File \u001b[1;32mc:\\Users\\d.mentock\\Music\\pubman_manager\\pubman_manager\\pubman_creator.py:385\u001b[0m, in \u001b[0;36mPubmanCreator.create_publications\u001b[1;34m(self, file_path, create_items, submit_items, overwrite)\u001b[0m\n\u001b[0;32m    379\u001b[0m     request_list\u001b[38;5;241m.\u001b[39mappend(({\n\u001b[0;32m    380\u001b[0m             \u001b[38;5;124m\"\u001b[39m\u001b[38;5;124mmetadata.identifiers.id\u001b[39m\u001b[38;5;124m\"\u001b[39m: doi,\n\u001b[0;32m    381\u001b[0m         }, request)\n\u001b[0;32m    382\u001b[0m     )\n\u001b[0;32m    384\u001b[0m \u001b[38;5;28;01mif\u001b[39;00m create_items:\n\u001b[1;32m--> 385\u001b[0m     \u001b[38;5;28;43mself\u001b[39;49m\u001b[38;5;241;43m.\u001b[39;49m\u001b[43mcreate_items\u001b[49m\u001b[43m(\u001b[49m\u001b[43mrequest_list\u001b[49m\u001b[43m,\u001b[49m\u001b[43m \u001b[49m\u001b[43msubmit_items\u001b[49m\u001b[38;5;241;43m=\u001b[39;49m\u001b[43msubmit_items\u001b[49m\u001b[43m,\u001b[49m\u001b[43m \u001b[49m\u001b[43moverwrite\u001b[49m\u001b[38;5;241;43m=\u001b[39;49m\u001b[43moverwrite\u001b[49m\u001b[43m)\u001b[49m\n",
      "File \u001b[1;32mc:\\Users\\d.mentock\\Music\\pubman_manager\\pubman_manager\\pubman_creator.py:406\u001b[0m, in \u001b[0;36mPubmanCreator.create_items\u001b[1;34m(self, request_list, submit_items, overwrite)\u001b[0m\n\u001b[0;32m    404\u001b[0m     \u001b[38;5;28mprint\u001b[39m(\u001b[38;5;124mf\u001b[39m\u001b[38;5;124m\"\u001b[39m\u001b[38;5;124mCreating new publication: \u001b[39m\u001b[38;5;124m'\u001b[39m\u001b[38;5;132;01m{\u001b[39;00mcriteria\u001b[38;5;132;01m}\u001b[39;00m\u001b[38;5;124m'\u001b[39m\u001b[38;5;124m\"\u001b[39m)\n\u001b[0;32m    405\u001b[0m     \u001b[38;5;28mprint\u001b[39m(\u001b[38;5;124m\"\u001b[39m\u001b[38;5;124mrequest_json\u001b[39m\u001b[38;5;124m\"\u001b[39m,request_json)\n\u001b[1;32m--> 406\u001b[0m     created_item \u001b[38;5;241m=\u001b[39m \u001b[38;5;28;43mself\u001b[39;49m\u001b[38;5;241;43m.\u001b[39;49m\u001b[43mcreate_item\u001b[49m\u001b[43m(\u001b[49m\u001b[43mrequest_json\u001b[49m\u001b[43m)\u001b[49m\n\u001b[0;32m    407\u001b[0m     item_ids\u001b[38;5;241m.\u001b[39mappend((created_item[\u001b[38;5;124m'\u001b[39m\u001b[38;5;124mobjectId\u001b[39m\u001b[38;5;124m'\u001b[39m], created_item[\u001b[38;5;124m'\u001b[39m\u001b[38;5;124mlastModificationDate\u001b[39m\u001b[38;5;124m'\u001b[39m], created_item[\u001b[38;5;124m'\u001b[39m\u001b[38;5;124mversionState\u001b[39m\u001b[38;5;124m'\u001b[39m]))\n\u001b[0;32m    409\u001b[0m \u001b[38;5;28;01mif\u001b[39;00m submit_items:\n",
      "File \u001b[1;32mc:\\Users\\d.mentock\\Music\\pubman_manager\\pubman_manager\\pubman_base.py:270\u001b[0m, in \u001b[0;36mPubmanBase.create_item\u001b[1;34m(self, request_json)\u001b[0m\n\u001b[0;32m    268\u001b[0m     \u001b[38;5;28;01mreturn\u001b[39;00m response\u001b[38;5;241m.\u001b[39mjson()\n\u001b[0;32m    269\u001b[0m \u001b[38;5;28;01melse\u001b[39;00m:\n\u001b[1;32m--> 270\u001b[0m     \u001b[38;5;28;01mraise\u001b[39;00m \u001b[38;5;167;01mException\u001b[39;00m(\u001b[38;5;124m\"\u001b[39m\u001b[38;5;124mFailed to create item\u001b[39m\u001b[38;5;124m\"\u001b[39m, response\u001b[38;5;241m.\u001b[39mstatus_code, response\u001b[38;5;241m.\u001b[39mtext)\n",
      "\u001b[1;31mException\u001b[0m: ('Failed to create item', 400, '{\\n  \"timestamp\" : \"2024-08-09T18:38:47.246476433\",\\n  \"status\" : 400,\\n  \"error\" : \"Bad Request\",\\n  \"exception\" : \"de.mpg.mpdl.inge.service.exceptions.IngeApplicationException\",\\n  \"message\" : \"Invalid metadata\",\\n  \"cause\" : {\\n    \"exception\" : \"de.mpg.mpdl.inge.inge_validation.exception.ValidationException\",\\n    \"message\" : \"Validation result [content=DateFormatIncorrect, element=copyrightDate, severity=ERROR] \"\\n  }\\n}')"
     ]
    }
   ],
   "source": [
    "from pubman_manager import PubmanCreator, PUBLICATIONS_DIR, FILES_DIR\n",
    "import yaml\n",
    "\n",
    "from dotenv import load_dotenv\n",
    "import os\n",
    "\n",
    "load_dotenv()\n",
    "\n",
    "username = os.getenv(\"USERNAME\")\n",
    "password = os.getenv(\"PASSWORD\")\n",
    "\n",
    "api = PubmanCreator(username, password)\n",
    "# api.process_excel_and_create_publications('Talks_Tim.xlsx', submit_items=True)\n",
    "# api.process_excel_and_create_publications('tt.xlsx', submit_items=False)\n",
    "# api.process_excel_and_create_publications('Talks_Mathias.xlsx', submit_items=True)\n",
    "# api.process_excel_and_create_publications('Talks_Yue.xlsx', submit_items=True)\n",
    "# api.process_excel_and_create_publications('Talks_Leonardo.xlsx', submit_items=True)\n",
    "# api.process_excel_and_create_publications('Talks_Daniel.xlsx', create_items=False)\n",
    "api.create_publications(PUBLICATIONS_DIR / 'test_dois.xlsx', submit_items=False)\n",
    "\n",
    "# api.upload_pdf(FILES_DIR / '10.1016_j.ijplas.2022.103405.pdf')\n",
    "# api.search_file_by_title('10.1016_j.ijplas.2022.103405.pdf')\n",
    "# api.fetch_sample_document()"
   ]
  },
  {
   "cell_type": "code",
   "execution_count": null,
   "metadata": {},
   "outputs": [],
   "source": [
    "# api.search_publication_by_criteria({\n",
    "#   \"metadata.title\": \"Visualizing radiation-induced damage by Hydrogen/Deuterium\",\n",
    "#   \"metadata.event.title\": \"Conference talk at DPG Spring Meeting 2023 (SKM23)\",\n",
    "# })"
   ]
  }
 ],
 "metadata": {
  "kernelspec": {
   "display_name": "Python 3",
   "language": "python",
   "name": "python3"
  },
  "language_info": {
   "codemirror_mode": {
    "name": "ipython",
    "version": 3
   },
   "file_extension": ".py",
   "mimetype": "text/x-python",
   "name": "python",
   "nbconvert_exporter": "python",
   "pygments_lexer": "ipython3",
   "version": "3.11.9"
  }
 },
 "nbformat": 4,
 "nbformat_minor": 2
}
