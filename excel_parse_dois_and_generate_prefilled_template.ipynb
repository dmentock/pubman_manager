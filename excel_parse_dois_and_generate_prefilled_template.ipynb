{
 "cells": [
  {
   "cell_type": "code",
   "execution_count": 1,
   "metadata": {},
   "outputs": [
    {
     "name": "stderr",
     "output_type": "stream",
     "text": [
      "C:\\Users\\d.mentock\\AppData\\Local\\Packages\\PythonSoftwareFoundation.Python.3.11_qbz5n2kfra8p0\\LocalCache\\local-packages\\Python311\\site-packages\\fuzzywuzzy\\fuzz.py:11: UserWarning: Using slow pure-python SequenceMatcher. Install python-Levenshtein to remove this warning\n",
      "  warnings.warn('Using slow pure-python SequenceMatcher. Install python-Levenshtein to remove this warning')\n"
     ]
    }
   ],
   "source": [
    "from pubman_manager import DOIParser, PubmanBase, PUBLICATIONS_DOIS_DIR, PUBLICATIONS_DIR\n",
    "import os\n",
    "from dotenv import load_dotenv\n",
    "\n",
    "load_dotenv()\n",
    "scopus_api_key = os.getenv(\"SCOPUS_API_KEY\")\n",
    "username = os.getenv(\"USERNAME\")\n",
    "password = os.getenv(\"PASSWORD\")\n",
    "pubman_api = PubmanBase(username, password)\n",
    "\n",
    "doi_parser = DOIParser(scopus_api_key, pubman_api)\n",
    "# dois = [\n",
    "#         # '10.1016/j.ijplas.2022.103405',\n",
    "#         # '10.1016/j.matdes.2022.110503',\n",
    "#         '10.1007/s11661-023-06959-4',\n",
    "#         # '10.1016/j.mtla.2022.101625',\n",
    "#         # '10.1016/j.ijrmhm.2023.106124'\n",
    "#         ]\n",
    "\n",
    "# a = doi_parser.download_scopus_pdf(dois[0])\n",
    "# dois_data = doi_parser.collect_data_for_dois(dois)\n",
    "# dois_data\n",
    "\n",
    "\n",
    "# doi_parser.iterate_over_sheets_in_folder(PUBLICATIONS_DOIS_DIR)\n",
    "doi_data = doi_parser.collect_data_for_doi('10.1007/s40831-024-00877-4')\n",
    "doi_parser.write_dois_data([doi_data], PUBLICATIONS_DIR / 'oezge.xlsx')\n",
    "# doi_parser.process_author_list({'Se-Ho Kim': ['MPIE']}, '')"
   ]
  },
  {
   "cell_type": "code",
   "execution_count": 2,
   "metadata": {},
   "outputs": [
    {
     "name": "stderr",
     "output_type": "stream",
     "text": [
      "C:\\Users\\d.mentock\\AppData\\Local\\Packages\\PythonSoftwareFoundation.Python.3.11_qbz5n2kfra8p0\\LocalCache\\local-packages\\Python311\\site-packages\\openpyxl\\worksheet\\_reader.py:329: UserWarning: Data Validation extension is not supported and will be removed\n",
      "  warn(msg)\n",
      "C:\\Users\\d.mentock\\AppData\\Local\\Packages\\PythonSoftwareFoundation.Python.3.11_qbz5n2kfra8p0\\LocalCache\\local-packages\\Python311\\site-packages\\openpyxl\\worksheet\\_reader.py:329: UserWarning: Data Validation extension is not supported and will be removed\n",
      "  warn(msg)\n"
     ]
    },
    {
     "name": "stdout",
     "output_type": "stream",
     "text": [
      "Generating requests for \"Green Ironmaking at Higher H2 Pressure: Reduction Kinetics and Microstructure Formation During Hydrogen-Based Direct Reduction of Hematite Pellets\"\n",
      "pdf_path c:\\Users\\d.mentock\\Music\\pubman_manager\\files\\10.1007_s40831-024-00877-4.pdf\n",
      "Creating entry: {'metadata.identifiers.id': '10.1007/s40831-024-00877-4'}\n",
      "Creating new publication: '{'metadata.identifiers.id': '10.1007/s40831-024-00877-4'}'\n",
      "request_json {'context': {'objectId': 'ctx_2019354', 'name': '', 'lastModificationDate': '', 'creationDate': '', 'creator': {'objectId': 'user_1944725'}}, 'creator': {'objectId': 'user_1944725'}, 'modifier': {'objectId': 'user_1944725'}, 'localTags': [], 'metadata': {'title': 'Green Ironmaking at Higher H2 Pressure: Reduction Kinetics and Microstructure Formation During Hydrogen-Based Direct Reduction of Hematite Pellets', 'creators': [{'person': {'givenName': 'Özge', 'familyName': 'Özgün', 'organizations': [{'name': 'Sustainable Synthesis of Materials, Interdepartmental and Partner Groups, Max-Planck-Institut für Eisenforschung GmbH, Max Planck Society', 'identifier': 'ou_3289784', 'identifierPath': ['']}], 'identifier': {'id': '/persons/resource/persons264100', 'type': 'CONE'}}, 'role': 'AUTHOR', 'type': 'PERSON'}, {'person': {'givenName': 'Imants', 'familyName': 'Dirba', 'organizations': [{'name': 'Functional Materials, Department of Material Science Technische Universität Darmstadt, 64287, Darmstadt, Germany', 'identifier': 'ou_persistent22', 'identifierPath': ['']}], 'identifier': None}, 'role': 'AUTHOR', 'type': 'PERSON'}, {'person': {'givenName': 'Oliver', 'familyName': 'Gutfleisch', 'organizations': [{'name': 'Functional Materials, Institute of Materials Science, Technical University of Darmstadt, Peter-Grünberg-Str. 16, 64287 Darmstadt, Germany', 'identifier': 'ou_persistent22', 'identifierPath': ['']}], 'identifier': {'id': '/persons/resource/persons224983', 'type': 'CONE'}}, 'role': 'AUTHOR', 'type': 'PERSON'}, {'person': {'givenName': 'Yan', 'familyName': 'Ma', 'organizations': [{'name': 'Sustainable Synthesis of Materials, Interdepartmental and Partner Groups, Max-Planck-Institut für Eisenforschung GmbH, Max Planck Society', 'identifier': 'ou_3289784', 'identifierPath': ['']}], 'identifier': {'id': '/persons/resource/persons242347', 'type': 'CONE'}}, 'role': 'AUTHOR', 'type': 'PERSON'}, {'person': {'givenName': 'Dierk', 'familyName': 'Raabe', 'organizations': [{'name': 'Microstructure Physics and Alloy Design, Max-Planck-Institut für Eisenforschung GmbH, Max Planck Society', 'identifier': 'ou_1863381', 'identifierPath': ['']}], 'identifier': {'id': '/persons/resource/persons125330', 'type': 'CONE'}}, 'role': 'AUTHOR', 'type': 'PERSON'}], 'dateCreated': '2024-01-07', 'datePublishedInPrint': '2024-07-01', 'datePublishedOnline': '2024-07-01', 'genre': 'ARTICLE', 'identifiers': [{'id': '10.1007/s40831-024-00877-4', 'type': 'DOI'}], 'languages': ['eng'], 'sources': [{'alternativeTitles': [], 'genre': 'JOURNAL', 'title': 'Journal of Sustainable Metallurgy', 'publishingInfo': {'publisher': 'Springer Science and Business Media LLC'}, 'volume': '', 'issue': '', 'startPage': None, 'endPage': None, 'totalNumberOfPages': None, 'identifiers': [{'type': 'ISSN', 'id': '2199-3823'}]}], 'reviewMethod': 'PEER'}, 'files': []}\n"
     ]
    }
   ],
   "source": [
    "from pubman_manager import PubmanCreator, PUBLICATIONS_DIR, PubmanBase\n",
    "import os\n",
    "from dotenv import load_dotenv\n",
    "\n",
    "load_dotenv()\n",
    "scopus_api_key = os.getenv(\"SCOPUS_API_KEY\")\n",
    "username = os.getenv(\"USERNAME\")\n",
    "password = os.getenv(\"PASSWORD\")\n",
    "pubman_api = PubmanBase(username, password)\n",
    "\n",
    "api = PubmanCreator(username, password)\n",
    "api.create_publications(PUBLICATIONS_DIR / './oezge.xlsx', submit_items=False)\n"
   ]
  }
 ],
 "metadata": {
  "kernelspec": {
   "display_name": "Python 3",
   "language": "python",
   "name": "python3"
  },
  "language_info": {
   "codemirror_mode": {
    "name": "ipython",
    "version": 3
   },
   "file_extension": ".py",
   "mimetype": "text/x-python",
   "name": "python",
   "nbconvert_exporter": "python",
   "pygments_lexer": "ipython3",
   "version": "3.11.9"
  }
 },
 "nbformat": 4,
 "nbformat_minor": 2
}
