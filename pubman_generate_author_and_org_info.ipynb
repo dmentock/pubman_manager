{
 "cells": [
  {
   "cell_type": "code",
   "execution_count": 1,
   "metadata": {},
   "outputs": [
    {
     "name": "stdout",
     "output_type": "stream",
     "text": [
      "aa\n"
     ]
    }
   ],
   "source": [
    "from pubman_manager import PubManAPI\n",
    "import yaml\n",
    "\n",
    "from dotenv import load_dotenv\n",
    "import os\n",
    "\n",
    "load_dotenv()\n",
    "\n",
    "username = os.getenv(\"USERNAME\")\n",
    "password = os.getenv(\"PASSWORD\")\n",
    "\n",
    "api = PubManAPI(username, password)\n",
    "# publications = api.search_publications_by_organization('ou_1863381', size=10000)\n",
    "# with open(\"publications.yaml\", \"w\") as f:\n",
    "#     yaml.dump(publications, f)\n",
    "# authors_info = api.extract_authors_info(publications)\n",
    "# authors_info['Dierk Raabe']['affiliations'] = ['Microstructure Physics and Alloy Design, Max-Planck-Institut für Eisenforschung GmbH, Max Planck Society']\n",
    "# with open(\"authors_info.yaml\", \"w\") as f:\n",
    "#     yaml.dump(authors_info, f)\n",
    "# with open('identifier_paths.yaml', 'w', encoding='utf-8') as f:\n",
    "#     yaml.dump(api.extract_organization_mapping('publications.yaml'), f)\n",
    "\n",
    "\n",
    "with open('publications.yaml', 'r') as file:\n",
    "    data = yaml.safe_load(file)\n",
    "journals = api.extract_journal_names(data)\n",
    "with open(\"journals.yaml\", \"w\") as f:\n",
    "    yaml.dump(journals, f)"
   ]
  },
  {
   "cell_type": "code",
   "execution_count": null,
   "metadata": {},
   "outputs": [],
   "source": []
  }
 ],
 "metadata": {
  "kernelspec": {
   "display_name": "Python 3",
   "language": "python",
   "name": "python3"
  },
  "language_info": {
   "codemirror_mode": {
    "name": "ipython",
    "version": 3
   },
   "file_extension": ".py",
   "mimetype": "text/x-python",
   "name": "python",
   "nbconvert_exporter": "python",
   "pygments_lexer": "ipython3",
   "version": "3.11.9"
  }
 },
 "nbformat": 4,
 "nbformat_minor": 2
}
