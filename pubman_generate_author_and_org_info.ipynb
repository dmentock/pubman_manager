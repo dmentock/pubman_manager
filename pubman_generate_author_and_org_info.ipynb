{
 "cells": [
  {
   "cell_type": "code",
   "execution_count": 1,
   "metadata": {},
   "outputs": [
    {
     "name": "stdout",
     "output_type": "stream",
     "text": [
      "PROJECT_ROOT /mnt/c/Users/d.mentock/Music/pubman_manager\n",
      "PUBLICATIONS_DIR /mnt/c/Users/d.mentock/Music/pubman_manager/publications\n"
     ]
    },
    {
     "name": "stderr",
     "output_type": "stream",
     "text": [
      "/home/snkrkr/.local/lib/python3.10/site-packages/pandas/core/computation/expressions.py:21: UserWarning: Pandas requires version '2.8.4' or newer of 'numexpr' (version '2.8.1' currently installed).\n",
      "  from pandas.core.computation.check import NUMEXPR_INSTALLED\n",
      "/home/snkrkr/.local/lib/python3.10/site-packages/pandas/core/arrays/masked.py:60: UserWarning: Pandas requires version '1.3.6' or newer of 'bottleneck' (version '1.3.2' currently installed).\n",
      "  from pandas.core import (\n",
      "INFO:root:No auth_token provided, using ENV_USERNAME and ENV_PASSWORD\n"
     ]
    }
   ],
   "source": [
    "from pubman_manager import PubmanExtractor, PUBMAN_CACHE_DIR\n",
    "import yaml\n",
    "\n",
    "pubman_api = PubmanExtractor()\n",
    "mpg_department_ids_by_name = pubman_api.fetch_all_organizations()\n",
    "len(mpg_department_ids_by_name)\n",
    "with open(PUBMAN_CACHE_DIR / \"mpg_departments.yaml\", \"w\") as f:\n",
    "    yaml.dump(mpg_department_ids_by_name, f)\n",
    "\n",
    "\n",
    "# pubman_api.search_publications_by_organization('ou_1863381', size=10)\n",
    "\n",
    "\n",
    "org_ids = {\n",
    "    'sm': 'ou_1863336',\n",
    "    'ma': 'ou_1863381',\n",
    "    # 'cm': 'ou_1863337',\n",
    "    # 'ic': 'ou_1863348',\n",
    "    # 'sn': 'ou_1863398'\n",
    "}\n",
    "\n",
    "publications = []\n",
    "for name, id in org_ids.items():\n",
    "    org_publications = pubman_api.search_publications_by_organization(id, size=200000)\n",
    "    # print(\"org_publications\", name, org_publications)\n",
    "    publications.extend(org_publications)\n",
    "with open(PUBMAN_CACHE_DIR / \"publications.yaml\", \"w\") as f:\n",
    "    yaml.dump(publications, f)\n",
    "\n",
    "with open(PUBMAN_CACHE_DIR / \"publications.yaml\", \"r\") as f:\n",
    "    publications = yaml.safe_load(f)\n",
    "\n",
    "authors_info = pubman_api.extract_authors_info(publications)\n",
    "authors_info[('Dierk', 'Raabe')]['affiliations'] = ['Microstructure Physics and Alloy Design, Max Planck Institute for Sustainable Materials, Max Planck Society']\n",
    "# authors_info\n",
    "with open(PUBMAN_CACHE_DIR / \"authors_info.yaml\", \"w\") as f:\n",
    "    yaml.dump(authors_info, f)\n",
    "with open(PUBMAN_CACHE_DIR / 'identifier_paths.yaml', 'w', encoding='utf-8') as f:\n",
    "    yaml.dump(pubman_api.extract_organization_mapping(publications), f)\n",
    "\n",
    "journals = pubman_api.extract_journal_names(publications)\n",
    "with open(PUBMAN_CACHE_DIR / \"journals.yaml\", \"w\") as f:\n",
    "    yaml.dump(journals, f)"
   ]
  },
  {
   "cell_type": "code",
   "execution_count": null,
   "metadata": {},
   "outputs": [],
   "source": []
  },
  {
   "cell_type": "code",
   "execution_count": null,
   "metadata": {},
   "outputs": [],
   "source": []
  }
 ],
 "metadata": {
  "kernelspec": {
   "display_name": "Python 3",
   "language": "python",
   "name": "python3"
  },
  "language_info": {
   "codemirror_mode": {
    "name": "ipython",
    "version": 3
   },
   "file_extension": ".py",
   "mimetype": "text/x-python",
   "name": "python",
   "nbconvert_exporter": "python",
   "pygments_lexer": "ipython3",
   "version": "3.10.12"
  }
 },
 "nbformat": 4,
 "nbformat_minor": 2
}
