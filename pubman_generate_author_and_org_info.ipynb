{
 "cells": [
  {
   "cell_type": "code",
   "execution_count": 1,
   "metadata": {},
   "outputs": [
    {
     "name": "stderr",
     "output_type": "stream",
     "text": [
      "C:\\Users\\d.mentock\\AppData\\Local\\Packages\\PythonSoftwareFoundation.Python.3.11_qbz5n2kfra8p0\\LocalCache\\local-packages\\Python311\\site-packages\\fuzzywuzzy\\fuzz.py:11: UserWarning: Using slow pure-python SequenceMatcher. Install python-Levenshtein to remove this warning\n",
      "  warnings.warn('Using slow pure-python SequenceMatcher. Install python-Levenshtein to remove this warning')\n"
     ]
    }
   ],
   "source": [
    "from pubman_manager import PubmanExtractor, PUBMAN_CACHE_DIR\n",
    "import yaml\n",
    "\n",
    "from dotenv import load_dotenv\n",
    "import os\n",
    "\n",
    "load_dotenv()\n",
    "\n",
    "username = os.getenv(\"USERNAME\")\n",
    "password = os.getenv(\"PASSWORD\")\n",
    "\n",
    "pubman_api = PubmanExtractor(username, password)\n",
    "# mpg_department_ids_by_name = pubman_api.fetch_all_organizations()\n",
    "# len(mpg_department_ids_by_name)\n",
    "# with open(PUBMAN_CACHE_DIR / \"mpg_departments.yaml\", \"w\") as f:\n",
    "#     yaml.dump(mpg_department_ids_by_name, f)\n",
    "\n",
    "\n",
    "# pubman_api.search_publications_by_organization('ou_1863381', size=10)\n",
    "\n",
    "org_ids = {\n",
    "    'ma': 'ou_1863381',\n",
    "    'cm': 'ou_1863337',\n",
    "    'ic': 'ou_1863348',\n",
    "    'sn': 'ou_1863398'\n",
    "}\n",
    "\n",
    "publications = []\n",
    "for name, id in org_ids.items():\n",
    "    org_publications = pubman_api.search_publications_by_organization(id, size=100000)\n",
    "    # print(\"org_publications\", name, org_publications)\n",
    "    publications.extend(org_publications)\n",
    "with open(PUBMAN_CACHE_DIR / \"publications.yaml\", \"w\") as f:\n",
    "    yaml.dump(publications, f)\n",
    "authors_info = pubman_api.extract_authors_info(publications)\n",
    "authors_info['Dierk Raabe']['affiliations'] = ['Microstructure Physics and Alloy Design, Max-Planck-Institut für Eisenforschung GmbH, Max Planck Society']\n",
    "with open(PUBMAN_CACHE_DIR / \"authors_info.yaml\", \"w\") as f:\n",
    "    yaml.dump(authors_info, f)\n",
    "with open(PUBMAN_CACHE_DIR / 'identifier_paths.yaml', 'w', encoding='utf-8') as f:\n",
    "    yaml.dump(pubman_api.extract_organization_mapping(PUBMAN_CACHE_DIR / 'publications.yaml'), f)\n",
    "\n",
    "\n",
    "with open(PUBMAN_CACHE_DIR / 'publications.yaml', 'r') as file:\n",
    "    data = yaml.safe_load(file)\n",
    "journals = pubman_api.extract_journal_names(data)\n",
    "with open(PUBMAN_CACHE_DIR / \"journals.yaml\", \"w\") as f:\n",
    "    yaml.dump(journals, f)"
   ]
  },
  {
   "cell_type": "code",
   "execution_count": null,
   "metadata": {},
   "outputs": [],
   "source": []
  }
 ],
 "metadata": {
  "kernelspec": {
   "display_name": "Python 3",
   "language": "python",
   "name": "python3"
  },
  "language_info": {
   "codemirror_mode": {
    "name": "ipython",
    "version": 3
   },
   "file_extension": ".py",
   "mimetype": "text/x-python",
   "name": "python",
   "nbconvert_exporter": "python",
   "pygments_lexer": "ipython3",
   "version": "3.11.9"
  }
 },
 "nbformat": 4,
 "nbformat_minor": 2
}
