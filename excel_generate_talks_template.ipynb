{
 "cells": [
  {
   "cell_type": "code",
   "execution_count": 1,
   "metadata": {},
   "outputs": [],
   "source": [
    "from pubman_manager import create_sheet\n",
    "import yaml\n",
    "from collections import OrderedDict\n",
    "\n",
    "\n",
    "with open('authors_info.yaml', 'r', encoding='utf-8') as f:\n",
    "    authors_info = yaml.safe_load(f)\n",
    "names_affiliations = OrderedDict({key: val['affiliations'] for key, val in authors_info.items() if val})\n",
    "\n",
    "file_path = \"Template_Talks.xlsx\"\n",
    "\n",
    "n_authors = 30\n",
    "\n",
    "column_details = OrderedDict([\n",
    "    ('Event Name', [35, '']),\n",
    "    ('Conference start date\\n(dd.mm.YYYY)', [20, '']),\n",
    "    ('Conference end date\\n(dd.mm.YYYY)', [20, '']),\n",
    "    ('Talk date\\n(dd.mm.YYYY)', [20, '']),\n",
    "    ('Conference Location', [15, 'In case of an US-city, please add the State name as well (e.g. New London, NH, USA)']),\n",
    "    ('Invited (y/n)', [15, '']),\n",
    "    ('Talk Title', [50, '']),\n",
    "    ('Comment (Optional)', [25, '']),\n",
    "])\n",
    "\n",
    "# Create the Excel file\n",
    "create_sheet(file_path, names_affiliations, column_details, n_authors, 30)\n"
   ]
  }
 ],
 "metadata": {
  "kernelspec": {
   "display_name": "Python 3",
   "language": "python",
   "name": "python3"
  },
  "language_info": {
   "codemirror_mode": {
    "name": "ipython",
    "version": 3
   },
   "file_extension": ".py",
   "mimetype": "text/x-python",
   "name": "python",
   "nbconvert_exporter": "python",
   "pygments_lexer": "ipython3",
   "version": "3.11.9"
  }
 },
 "nbformat": 4,
 "nbformat_minor": 2
}
