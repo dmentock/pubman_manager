{
 "cells": [
  {
   "cell_type": "code",
   "execution_count": 3,
   "metadata": {},
   "outputs": [],
   "source": [
    "from pubman_manager import create_sheet, PUBMAN_CACHE_DIR, TALKS_DIR\n",
    "import yaml\n",
    "from collections import OrderedDict\n",
    "\n",
    "\n",
    "with open(PUBMAN_CACHE_DIR / 'authors_info.yaml', 'r', encoding='utf-8') as f:\n",
    "    authors_info = yaml.load(f, Loader=yaml.FullLoader)\n",
    "names_affiliations = OrderedDict({key: val['affiliations'] for key, val in authors_info.items() if val})\n",
    "\n",
    "file_path = TALKS_DIR / \"Template_Talks_test.xlsx\"\n",
    "\n",
    "n_authors = 45\n",
    "\n",
    "column_details = OrderedDict([\n",
    "    ('Event Name', [35, '']),\n",
    "    ('Conference start date\\n(dd.mm.YYYY)', [20, '']),\n",
    "    ('Conference end date\\n(dd.mm.YYYY)', [20, '']),\n",
    "    ('Talk date\\n(dd.mm.YYYY)', [20, '']),\n",
    "    ('Conference Location\\n(City, Country)', [15, 'In case of an US-city, please add the State name as well (e.g. New London, NH, USA)']),\n",
    "    ('Invited (y/n)', [15, '']),\n",
    "    ('Type (Talk/Poster)', [15, '']),\n",
    "    ('Talk Title', [50, '']),\n",
    "    ('Comment (Optional)', [25, '']),\n",
    "])\n",
    "\n",
    "# Create the Excel file\n",
    "create_sheet(file_path, names_affiliations, column_details, n_authors, n_entries=45)\n"
   ]
  }
 ],
 "metadata": {
  "kernelspec": {
   "display_name": "Python 3",
   "language": "python",
   "name": "python3"
  },
  "language_info": {
   "codemirror_mode": {
    "name": "ipython",
    "version": 3
   },
   "file_extension": ".py",
   "mimetype": "text/x-python",
   "name": "python",
   "nbconvert_exporter": "python",
   "pygments_lexer": "ipython3",
   "version": "3.11.undefined"
  }
 },
 "nbformat": 4,
 "nbformat_minor": 2
}
