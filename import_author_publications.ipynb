{
 "cells": [
  {
   "cell_type": "code",
   "execution_count": 5,
   "metadata": {},
   "outputs": [],
   "source": [
    "from pubman_manager import DOIParser, PubmanBase, PUBLICATIONS_DIR\n",
    "import datetime\n",
    "\n",
    "import logging\n",
    "pubman_api = PubmanBase()\n",
    "doi_parser = DOIParser(pubman_api, logging_level = logging.INFO)\n",
    "\n",
    "author_name = 'Franz Roters'\n",
    "pub_path = PUBLICATIONS_DIR / 'new' / f'{author_name}_{datetime.datetime.now().strftime(\"%d.%m.%Y\")}.xlsx'"
   ]
  },
  {
   "cell_type": "code",
   "execution_count": 4,
   "metadata": {},
   "outputs": [
    {
     "data": {
      "text/html": [
       "<div>\n",
       "<style scoped>\n",
       "    .dataframe tbody tr th:only-of-type {\n",
       "        vertical-align: middle;\n",
       "    }\n",
       "\n",
       "    .dataframe tbody tr th {\n",
       "        vertical-align: top;\n",
       "    }\n",
       "\n",
       "    .dataframe thead th {\n",
       "        text-align: right;\n",
       "    }\n",
       "</style>\n",
       "<table border=\"1\" class=\"dataframe\">\n",
       "  <thead>\n",
       "    <tr style=\"text-align: right;\">\n",
       "      <th></th>\n",
       "      <th>Title</th>\n",
       "      <th>Publication Date</th>\n",
       "      <th>DOI</th>\n",
       "      <th>Field</th>\n",
       "    </tr>\n",
       "  </thead>\n",
       "  <tbody>\n",
       "    <tr>\n",
       "      <th>0</th>\n",
       "      <td>Three-dimensional study of grain scale tensile...</td>\n",
       "      <td>2023-08-15</td>\n",
       "      <td>10.1016/j.actamat.2023.119043</td>\n",
       "      <td>Already exists in PuRe</td>\n",
       "    </tr>\n",
       "    <tr>\n",
       "      <th>1</th>\n",
       "      <td>Modeling Bainite Dual-Phase Steels: A High-Res...</td>\n",
       "      <td>2023-04-13</td>\n",
       "      <td>10.3390/cryst13040673</td>\n",
       "      <td>Already exists in PuRe</td>\n",
       "    </tr>\n",
       "    <tr>\n",
       "      <th>2</th>\n",
       "      <td>Application of a nanoindentation-based approac...</td>\n",
       "      <td>2023-08-10</td>\n",
       "      <td>10.1016/j.msea.2023.145373</td>\n",
       "      <td>Already exists in PuRe</td>\n",
       "    </tr>\n",
       "    <tr>\n",
       "      <th>3</th>\n",
       "      <td>Strengthening of Mg–Al–Ca alloys with C15 and ...</td>\n",
       "      <td>2023-06-22</td>\n",
       "      <td>10.1557/s43578-023-01082-x</td>\n",
       "      <td>Already exists in PuRe</td>\n",
       "    </tr>\n",
       "    <tr>\n",
       "      <th>4</th>\n",
       "      <td>Influence of Hot Band Annealing on Cold-Rolled...</td>\n",
       "      <td>2023</td>\n",
       "      <td>10.1007/s11661-022-06846-4</td>\n",
       "      <td>Already exists in PuRe</td>\n",
       "    </tr>\n",
       "    <tr>\n",
       "      <th>5</th>\n",
       "      <td>Finite strain crystal plasticity-phase field m...</td>\n",
       "      <td>2023-01-01</td>\n",
       "      <td>10.1016/j.actamat.2022.118444</td>\n",
       "      <td>Already exists in PuRe</td>\n",
       "    </tr>\n",
       "    <tr>\n",
       "      <th>6</th>\n",
       "      <td>Simulations of Texture Evolution in the Near-S...</td>\n",
       "      <td>[2024, 6, 26]</td>\n",
       "      <td>10.1007/s11661-024-07472-y</td>\n",
       "      <td></td>\n",
       "    </tr>\n",
       "  </tbody>\n",
       "</table>\n",
       "</div>"
      ],
      "text/plain": [
       "                                               Title Publication Date  \\\n",
       "0  Three-dimensional study of grain scale tensile...       2023-08-15   \n",
       "1  Modeling Bainite Dual-Phase Steels: A High-Res...       2023-04-13   \n",
       "2  Application of a nanoindentation-based approac...       2023-08-10   \n",
       "3  Strengthening of Mg–Al–Ca alloys with C15 and ...       2023-06-22   \n",
       "4  Influence of Hot Band Annealing on Cold-Rolled...             2023   \n",
       "5  Finite strain crystal plasticity-phase field m...       2023-01-01   \n",
       "6  Simulations of Texture Evolution in the Near-S...    [2024, 6, 26]   \n",
       "\n",
       "                             DOI                   Field  \n",
       "0  10.1016/j.actamat.2023.119043  Already exists in PuRe  \n",
       "1          10.3390/cryst13040673  Already exists in PuRe  \n",
       "2     10.1016/j.msea.2023.145373  Already exists in PuRe  \n",
       "3     10.1557/s43578-023-01082-x  Already exists in PuRe  \n",
       "4     10.1007/s11661-022-06846-4  Already exists in PuRe  \n",
       "5  10.1016/j.actamat.2022.118444  Already exists in PuRe  \n",
       "6     10.1007/s11661-024-07472-y                          "
      ]
     },
     "execution_count": 4,
     "metadata": {},
     "output_type": "execute_result"
    }
   ],
   "source": [
    "df_dois_overview = doi_parser.get_dois_for_author(author_name, pubyear_start = 2023)\n",
    "df_dois_overview"
   ]
  },
  {
   "cell_type": "code",
   "execution_count": 2,
   "metadata": {},
   "outputs": [
    {
     "name": "stderr",
     "output_type": "stream",
     "text": [
      "INFO:root:Saved c:\\Users\\d.mentock\\Music\\pubman_manager\\publications\\new\\Franz Roters_26.09.2024.xlsx successfully.\n"
     ]
    }
   ],
   "source": [
    "dois_data = doi_parser.collect_data_for_dois(df_dois_overview)\n",
    "doi_parser.write_dois_data(pub_path, dois_data)"
   ]
  },
  {
   "cell_type": "code",
   "execution_count": 6,
   "metadata": {},
   "outputs": [
    {
     "name": "stderr",
     "output_type": "stream",
     "text": [
      "C:\\Users\\d.mentock\\AppData\\Local\\Packages\\PythonSoftwareFoundation.Python.3.11_qbz5n2kfra8p0\\LocalCache\\local-packages\\Python311\\site-packages\\openpyxl\\worksheet\\_reader.py:329: UserWarning: Data Validation extension is not supported and will be removed\n",
      "  warn(msg)\n",
      "C:\\Users\\d.mentock\\AppData\\Local\\Packages\\PythonSoftwareFoundation.Python.3.11_qbz5n2kfra8p0\\LocalCache\\local-packages\\Python311\\site-packages\\openpyxl\\worksheet\\_reader.py:329: UserWarning: Data Validation extension is not supported and will be removed\n",
      "  warn(msg)\n",
      "INFO:root:Creating new publication: '{'metadata.identifiers.id': '10.1007/s11661-024-07472-y'}'\n"
     ]
    }
   ],
   "source": [
    "from pubman_manager import PubmanCreator\n",
    "api = PubmanCreator()\n",
    "api.create_publications(pub_path, overwrite=True,submit_items=False)"
   ]
  }
 ],
 "metadata": {
  "kernelspec": {
   "display_name": "Python 3",
   "language": "python",
   "name": "python3"
  },
  "language_info": {
   "codemirror_mode": {
    "name": "ipython",
    "version": 3
   },
   "file_extension": ".py",
   "mimetype": "text/x-python",
   "name": "python",
   "nbconvert_exporter": "python",
   "pygments_lexer": "ipython3",
   "version": "3.11.9"
  }
 },
 "nbformat": 4,
 "nbformat_minor": 2
}
