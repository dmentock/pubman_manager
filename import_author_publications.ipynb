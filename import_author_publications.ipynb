{
 "cells": [
  {
   "cell_type": "code",
   "execution_count": 1,
   "metadata": {},
   "outputs": [
    {
     "name": "stderr",
     "output_type": "stream",
     "text": [
      "C:\\Users\\d.mentock\\AppData\\Local\\Packages\\PythonSoftwareFoundation.Python.3.11_qbz5n2kfra8p0\\LocalCache\\local-packages\\Python311\\site-packages\\fuzzywuzzy\\fuzz.py:11: UserWarning: Using slow pure-python SequenceMatcher. Install python-Levenshtein to remove this warning\n",
      "  warnings.warn('Using slow pure-python SequenceMatcher. Install python-Levenshtein to remove this warning')\n"
     ]
    },
    {
     "data": {
      "text/html": [
       "<div>\n",
       "<style scoped>\n",
       "    .dataframe tbody tr th:only-of-type {\n",
       "        vertical-align: middle;\n",
       "    }\n",
       "\n",
       "    .dataframe tbody tr th {\n",
       "        vertical-align: top;\n",
       "    }\n",
       "\n",
       "    .dataframe thead th {\n",
       "        text-align: right;\n",
       "    }\n",
       "</style>\n",
       "<table border=\"1\" class=\"dataframe\">\n",
       "  <thead>\n",
       "    <tr style=\"text-align: right;\">\n",
       "      <th></th>\n",
       "      <th>Title</th>\n",
       "      <th>Publication Date</th>\n",
       "      <th>DOI</th>\n",
       "      <th>Field</th>\n",
       "    </tr>\n",
       "  </thead>\n",
       "  <tbody>\n",
       "    <tr>\n",
       "      <th>0</th>\n",
       "      <td>[The Role of Dislocation Type in the Thermal S...</td>\n",
       "      <td>{'date-parts': [[2024, 7]]}</td>\n",
       "      <td>10.1002/advs.202402962</td>\n",
       "      <td></td>\n",
       "    </tr>\n",
       "    <tr>\n",
       "      <th>1</th>\n",
       "      <td>[Delineating dislocation structures and residu...</td>\n",
       "      <td>Unknown Date</td>\n",
       "      <td>10.1016/j.actamat.2023.119413</td>\n",
       "      <td></td>\n",
       "    </tr>\n",
       "    <tr>\n",
       "      <th>2</th>\n",
       "      <td>[A large-volume 3D EBSD study on additively ma...</td>\n",
       "      <td>Unknown Date</td>\n",
       "      <td>10.1016/j.scriptamat.2023.115723</td>\n",
       "      <td></td>\n",
       "    </tr>\n",
       "    <tr>\n",
       "      <th>3</th>\n",
       "      <td>Combined structural analysis and cathodolumine...</td>\n",
       "      <td>2023</td>\n",
       "      <td>10.1038/s41598-023-35142-3</td>\n",
       "      <td>Already exists in PuRe</td>\n",
       "    </tr>\n",
       "    <tr>\n",
       "      <th>4</th>\n",
       "      <td>[Dislocation-assisted particle dissolution: A ...</td>\n",
       "      <td>Unknown Date</td>\n",
       "      <td>10.1016/j.actamat.2023.119170</td>\n",
       "      <td></td>\n",
       "    </tr>\n",
       "    <tr>\n",
       "      <th>5</th>\n",
       "      <td>[Electroplasticity Mechanisms in hcp Materials]</td>\n",
       "      <td>{'date-parts': [[2023, 6, 23]]}</td>\n",
       "      <td>10.1002/adem.202201912</td>\n",
       "      <td></td>\n",
       "    </tr>\n",
       "    <tr>\n",
       "      <th>6</th>\n",
       "      <td>[Hydrogen-induced hardening of a high-manganes...</td>\n",
       "      <td>Unknown Date</td>\n",
       "      <td>10.1016/j.mtla.2023.101776</td>\n",
       "      <td></td>\n",
       "    </tr>\n",
       "  </tbody>\n",
       "</table>\n",
       "</div>"
      ],
      "text/plain": [
       "                                               Title  \\\n",
       "0  [The Role of Dislocation Type in the Thermal S...   \n",
       "1  [Delineating dislocation structures and residu...   \n",
       "2  [A large-volume 3D EBSD study on additively ma...   \n",
       "3  Combined structural analysis and cathodolumine...   \n",
       "4  [Dislocation-assisted particle dissolution: A ...   \n",
       "5    [Electroplasticity Mechanisms in hcp Materials]   \n",
       "6  [Hydrogen-induced hardening of a high-manganes...   \n",
       "\n",
       "                  Publication Date                               DOI  \\\n",
       "0      {'date-parts': [[2024, 7]]}            10.1002/advs.202402962   \n",
       "1                     Unknown Date     10.1016/j.actamat.2023.119413   \n",
       "2                     Unknown Date  10.1016/j.scriptamat.2023.115723   \n",
       "3                             2023        10.1038/s41598-023-35142-3   \n",
       "4                     Unknown Date     10.1016/j.actamat.2023.119170   \n",
       "5  {'date-parts': [[2023, 6, 23]]}            10.1002/adem.202201912   \n",
       "6                     Unknown Date        10.1016/j.mtla.2023.101776   \n",
       "\n",
       "                    Field  \n",
       "0                          \n",
       "1                          \n",
       "2                          \n",
       "3  Already exists in PuRe  \n",
       "4                          \n",
       "5                          \n",
       "6                          "
      ]
     },
     "execution_count": 1,
     "metadata": {},
     "output_type": "execute_result"
    }
   ],
   "source": [
    "from pubman_manager import DOIParser, PubmanBase, PUBLICATIONS_DIR\n",
    "import datetime\n",
    "\n",
    "pubman_api = PubmanBase()\n",
    "doi_parser = DOIParser(pubman_api)\n",
    "\n",
    "author_name = 'Stefan Zaefferer'\n",
    "\n",
    "df_dois_overview = doi_parser.get_dois_for_author(author_name, pubyear_start = 2023)\n",
    "df_dois_overview"
   ]
  },
  {
   "cell_type": "code",
   "execution_count": null,
   "metadata": {},
   "outputs": [],
   "source": [
    "dois_data = doi_parser.collect_data_for_dois(df_dois_overview)\n",
    "doi_parser.write_dois_data(PUBLICATIONS_DIR / 'new' / f'{author_name}_{datetime.now().strftime(\"%d.%m.%Y\")}.xlsx', dois_data)"
   ]
  },
  {
   "cell_type": "code",
   "execution_count": null,
   "metadata": {},
   "outputs": [],
   "source": []
  }
 ],
 "metadata": {
  "kernelspec": {
   "display_name": "Python 3",
   "language": "python",
   "name": "python3"
  },
  "language_info": {
   "codemirror_mode": {
    "name": "ipython",
    "version": 3
   },
   "file_extension": ".py",
   "mimetype": "text/x-python",
   "name": "python",
   "nbconvert_exporter": "python",
   "pygments_lexer": "ipython3",
   "version": "3.11.9"
  }
 },
 "nbformat": 4,
 "nbformat_minor": 2
}
