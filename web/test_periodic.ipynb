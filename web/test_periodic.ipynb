{
 "cells": [
  {
   "cell_type": "code",
   "execution_count": 1,
   "metadata": {},
   "outputs": [
    {
     "name": "stderr",
     "output_type": "stream",
     "text": [
      "C:\\Users\\d.mentock\\AppData\\Local\\Packages\\PythonSoftwareFoundation.Python.3.11_qbz5n2kfra8p0\\LocalCache\\local-packages\\Python311\\site-packages\\fuzzywuzzy\\fuzz.py:11: UserWarning: Using slow pure-python SequenceMatcher. Install python-Levenshtein to remove this warning\n",
      "  warnings.warn('Using slow pure-python SequenceMatcher. Install python-Levenshtein to remove this warning')\n",
      "INFO:root:No auth_token provided, using ENV_USERNAME and ENV_PASSWORD\n"
     ]
    }
   ],
   "source": [
    "import yaml\n",
    "from update_cache import update_cache\n",
    "\n",
    "with open('users.yaml', 'r') as f:\n",
    "    users = yaml.safe_load(f)\n",
    "for org_id in {users[user]['org_id'] for user in users.keys()}:\n",
    "    update_cache(org_id)"
   ]
  },
  {
   "cell_type": "code",
   "execution_count": null,
   "metadata": {},
   "outputs": [
    {
     "name": "stderr",
     "output_type": "stream",
     "text": [
      "INFO:root:No auth_token provided, using ENV_USERNAME and ENV_PASSWORD\n"
     ]
    }
   ],
   "source": [
    "import yaml\n",
    "from collections import OrderedDict\n",
    "\n",
    "from pubman_manager import PubmanExtractor, create_sheet, PUBMAN_CACHE_DIR, TALKS_DIR\n",
    "\n",
    "extractor = PubmanExtractor()\n",
    "\n",
    "with open('users.yaml', 'r') as f:\n",
    "    users = yaml.safe_load(f)\n",
    "for org_id in {user['org_id'] for user in users}:\n",
    "    extractor.extract_org_data(org_id)\n",
    "\n",
    "    with open(PUBMAN_CACHE_DIR / org_id / 'authors_info.yaml', 'r', encoding='utf-8') as f:\n",
    "        authors_info = yaml.load(f, Loader=yaml.FullLoader)\n",
    "    names_affiliations = OrderedDict({key: val['affiliations'] for key, val in authors_info.items() if val})\n",
    "    file_path = TALKS_DIR / f\"Template_Talks_{org_id}.xlsx\"\n",
    "    n_authors = 80\n",
    "    column_details = OrderedDict([\n",
    "        ('Event Name', [35, '']),\n",
    "        ('Conference start date\\n(dd.mm.YYYY)', [20, '']),\n",
    "        ('Conference end date\\n(dd.mm.YYYY)', [20, '']),\n",
    "        ('Talk date\\n(dd.mm.YYYY)', [20, '']),\n",
    "        ('Conference Location\\n(City, Country)', [15, 'In case of an US-city, please add the State name as well (e.g. New London, NH, USA)']),\n",
    "        ('Invited (y/n)', [15, '']),\n",
    "        ('Type (Talk/Poster)', [15, '']),\n",
    "        ('Talk Title', [50, '']),\n",
    "        ('Comment (Optional)', [25, '']),\n",
    "    ])\n",
    "\n",
    "    # Create the Excel file\n",
    "    create_sheet(file_path, names_affiliations, column_details, n_authors, n_entries=45)"
   ]
  }
 ],
 "metadata": {
  "kernelspec": {
   "display_name": "Python 3",
   "language": "python",
   "name": "python3"
  },
  "language_info": {
   "codemirror_mode": {
    "name": "ipython",
    "version": 3
   },
   "file_extension": ".py",
   "mimetype": "text/x-python",
   "name": "python",
   "nbconvert_exporter": "python",
   "pygments_lexer": "ipython3",
   "version": "3.11.9"
  }
 },
 "nbformat": 4,
 "nbformat_minor": 2
}
