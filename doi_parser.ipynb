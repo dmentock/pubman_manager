{
 "cells": [
  {
   "cell_type": "code",
   "execution_count": 1,
   "metadata": {},
   "outputs": [
    {
     "name": "stderr",
     "output_type": "stream",
     "text": [
      "C:\\Users\\d.mentock\\AppData\\Local\\Packages\\PythonSoftwareFoundation.Python.3.11_qbz5n2kfra8p0\\LocalCache\\local-packages\\Python311\\site-packages\\fuzzywuzzy\\fuzz.py:11: UserWarning: Using slow pure-python SequenceMatcher. Install python-Levenshtein to remove this warning\n",
      "  warnings.warn('Using slow pure-python SequenceMatcher. Install python-Levenshtein to remove this warning')\n"
     ]
    },
    {
     "name": "stdout",
     "output_type": "stream",
     "text": [
      "Publication {doi} already exists in PuRe, skipping...\n",
      "Publication {doi} already exists in PuRe, skipping...\n",
      "Publication {doi} already exists in PuRe, skipping...\n",
      "Publication {doi} already exists in PuRe, skipping...\n",
      "Publication {doi} already exists in PuRe, skipping...\n",
      "Saved empty_path c:\\Users\\d.mentock\\Music\\pubman_manager\\publications\\test_dois_empty.xlsx successfully.\n"
     ]
    }
   ],
   "source": [
    "from pubman_manager import DOIParser, PubmanBase, PUBLICATIONS_DOIS_DIR, PUBLICATIONS_DIR\n",
    "import os\n",
    "from dotenv import load_dotenv\n",
    "\n",
    "load_dotenv()\n",
    "scopus_api_key = os.getenv(\"SCOPUS_API_KEY\")\n",
    "username = os.getenv(\"USERNAME\")\n",
    "password = os.getenv(\"PASSWORD\")\n",
    "pubman_api = PubmanBase(username, password)\n",
    "\n",
    "doi_parser = DOIParser(scopus_api_key, pubman_api)\n",
    "dois = [\n",
    "        '10.1016/j.ijplas.2022.103405',\n",
    "        # '10.1016/j.matdes.2022.110503',\n",
    "        # '10.1007/s11661-023-06959-4',\n",
    "        # '10.1016/j.mtla.2022.101625',\n",
    "        # '10.1016/j.ijrmhm.2023.106124'\n",
    "        ]\n",
    "\n",
    "\n",
    "\n",
    "# dois_data = doi_parser.collect_data_for_dois(dois)\n",
    "# dois_data\n",
    "# doi_parser.write_dois_data(dois_data, PUBLICATIONS_DIR / 'test_dois.xlsx')\n",
    "\n",
    "# doi_parser.iterate_over_sheets_in_folder(PUBLICATIONS_DOIS_DIR)\n",
    "# dois_data = doi_parser.collect_data_for_doi('10.1002/advs.202300626')\n",
    "# doi_parser.process_author_list({'Se-Ho Kim': ['MPIE']}, '')"
   ]
  }
 ],
 "metadata": {
  "kernelspec": {
   "display_name": "Python 3",
   "language": "python",
   "name": "python3"
  },
  "language_info": {
   "codemirror_mode": {
    "name": "ipython",
    "version": 3
   },
   "file_extension": ".py",
   "mimetype": "text/x-python",
   "name": "python",
   "nbconvert_exporter": "python",
   "pygments_lexer": "ipython3",
   "version": "3.11.9"
  }
 },
 "nbformat": 4,
 "nbformat_minor": 2
}
