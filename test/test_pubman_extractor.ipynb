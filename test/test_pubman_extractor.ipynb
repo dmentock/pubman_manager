{
 "cells": [
  {
   "cell_type": "markdown",
   "metadata": {},
   "source": [
    "Test process_affiliations"
   ]
  },
  {
   "cell_type": "code",
   "execution_count": 1,
   "metadata": {},
   "outputs": [
    {
     "name": "stderr",
     "output_type": "stream",
     "text": [
      "C:\\Users\\d.mentock\\AppData\\Local\\Packages\\PythonSoftwareFoundation.Python.3.11_qbz5n2kfra8p0\\LocalCache\\local-packages\\Python311\\site-packages\\fuzzywuzzy\\fuzz.py:11: UserWarning: Using slow pure-python SequenceMatcher. Install python-Levenshtein to remove this warning\n",
      "  warnings.warn('Using slow pure-python SequenceMatcher. Install python-Levenshtein to remove this warning')\n"
     ]
    },
    {
     "data": {
      "text/plain": [
       "['Korea Univ, Dept Mat Sci & Engn, Seoul 02841, South Korea',\n",
       " 'Department of Materials Science and Engineering, Korea University, Seoul 02841, Republic of Korea',\n",
       " 'Hydrogen in Energy Materials, Project Groups, Microstructure Physics and Alloy Design, Max-Planck-Institut für Eisenforschung GmbH, Max Planck Society',\n",
       " 'Department of Materials Science and Engineering, Korea Advanced Institute of Science and Technology (KAIST), Daejeon, Republic of Korea',\n",
       " 'Atom Probe Tomography, Microstructure Physics and Alloy Design, Max-Planck-Institut für Eisenforschung GmbH, Max Planck Society']"
      ]
     },
     "execution_count": 1,
     "metadata": {},
     "output_type": "execute_result"
    }
   ],
   "source": [
    "from pubman_manager import PubmanExtractor, PUBLICATIONS_DOIS_DIR\n",
    "import os\n",
    "from dotenv import load_dotenv\n",
    "\n",
    "load_dotenv()\n",
    "scopus_api_key = os.getenv(\"SCOPUS_API_KEY\")\n",
    "username = os.getenv(\"USERNAME\")\n",
    "password = os.getenv(\"PASSWORD\")\n",
    "pubman_api = PubmanExtractor(username, password)\n",
    "\n",
    "affiliations_list =  [\n",
    "  'Korea Univ, Dept Mat Sci & Engn, Seoul 02841, South Korea',\n",
    "  'Department of Materials Science and Engineering, Korea University, Seoul 02841,\\n Republic of Korea',\n",
    "  'Department of Materials Science and Engineering, Korea University, 02841 Seoul, Republic of Korea',\n",
    "  'Department of Materials Science and Engineering, Korea University, Seoul 02841, Republic of Korea',\n",
    "  'Department of Materials Science and Engineering, Korea University, Seoul\\n02841, Republic of Korea',\n",
    "  'Department of Materials Science and Engineering, Korea\\nUniversity, Seoul 02841, Republic of Korea',\n",
    "  'Hydrogen in Energy Materials, Project Groups, Microstructure Physics and Alloy Design, Max-Planck-Institut für Eisenforschung GmbH, Max Planck Society',\n",
    "  'Materials Science and Engineering, Korea University, Seoul 02841, Republic of Kore',\n",
    "  'Department of Materials Science and Engineering, Korea Advanced Institute of Science and Technology (KAIST), Daejeon, Republic of Korea',\n",
    "  'Atom Probe Tomography, Microstructure Physics and Alloy Design, Max-Planck-Institut für Eisenforschung GmbH, Max Planck Society',\n",
    "  ]\n",
    "\n",
    "reduced_list = pubman_api.process_affiliations(affiliations_list)\n",
    "reduced_list"
   ]
  }
 ],
 "metadata": {
  "kernelspec": {
   "display_name": "Python 3",
   "language": "python",
   "name": "python3"
  },
  "language_info": {
   "codemirror_mode": {
    "name": "ipython",
    "version": 3
   },
   "file_extension": ".py",
   "mimetype": "text/x-python",
   "name": "python",
   "nbconvert_exporter": "python",
   "pygments_lexer": "ipython3",
   "version": "3.11.9"
  }
 },
 "nbformat": 4,
 "nbformat_minor": 2
}
