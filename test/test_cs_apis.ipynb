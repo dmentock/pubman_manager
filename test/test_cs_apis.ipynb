{
 "cells": [
  {
   "cell_type": "code",
   "execution_count": 1,
   "metadata": {},
   "outputs": [
    {
     "name": "stderr",
     "output_type": "stream",
     "text": [
      "/home/snkrkr/.local/lib/python3.10/site-packages/pandas/core/computation/expressions.py:21: UserWarning: Pandas requires version '2.8.4' or newer of 'numexpr' (version '2.8.1' currently installed).\n",
      "  from pandas.core.computation.check import NUMEXPR_INSTALLED\n",
      "/home/snkrkr/.local/lib/python3.10/site-packages/pandas/core/arrays/masked.py:60: UserWarning: Pandas requires version '1.3.6' or newer of 'bottleneck' (version '1.3.2' currently installed).\n",
      "  from pandas.core import (\n",
      "INFO:root:No auth_token provided, using ENV_USERNAME and ENV_PASSWORD\n"
     ]
    },
    {
     "data": {
      "text/plain": [
       "['10.1088/1361-651x/ab7f8c',\n",
       " '10.26434/chemrxiv-2024-2h7kn',\n",
       " '10.1038/s41467-024-52123-w',\n",
       " '10.1016/j.ijsolstr.2022.111801',\n",
       " '10.26434/chemrxiv-2024-2h7kn-v2',\n",
       " '10.1016/j.ijplas.2019.09.004',\n",
       " '10.1016/j.actamat.2022.118444',\n",
       " '10.1016/j.jmatprotec.2019.116449',\n",
       " '10.1016/j.actamat.2019.12.003',\n",
       " '10.3390/ma14030691',\n",
       " '10.1016/j.actamat.2022.118167',\n",
       " '10.1007/s11661-022-06846-4',\n",
       " '10.1007/s11661-022-06710-5',\n",
       " '10.1016/j.actamat.2023.119043',\n",
       " '10.1016/j.mechmat.2021.104117',\n",
       " '10.1016/j.ijplas.2021.103078',\n",
       " '10.2139/ssrn.4051534',\n",
       " '10.3390/cryst13040673',\n",
       " '10.1088/1361-651x/ab71c0',\n",
       " '10.1007/s11661-024-07472-y',\n",
       " '10.1016/j.msea.2023.145373',\n",
       " '10.1002/adem.201901044',\n",
       " '10.1038/s41524-022-00764-0',\n",
       " '10.1557/s43578-023-01082-x']"
      ]
     },
     "execution_count": 1,
     "metadata": {},
     "output_type": "execute_result"
    }
   ],
   "source": [
    "from pubman_manager import DOIParser, PubmanBase, PUBLICATIONS_DOIS_DIR\n",
    "import logging\n",
    "# logging.set\n",
    "import unicodedata\n",
    "logger = logging.getLogger('pubman_manager.api_manager_scopus')\n",
    "logger.setLevel(logging.DEBUG)\n",
    "pubman_api = PubmanBase()\n",
    "\n",
    "doi_parser = DOIParser(pubman_api)\n",
    "pubyear_start = 2020\n",
    "author = 'Franz Roters'\n",
    "dois_scopus = doi_parser.crossref_manager.get_dois_for_author(author, pubyear_start=pubyear_start)\n",
    "dois_scopus"
   ]
  },
  {
   "cell_type": "code",
   "execution_count": 1,
   "metadata": {},
   "outputs": [
    {
     "name": "stderr",
     "output_type": "stream",
     "text": [
      "/home/snkrkr/.local/lib/python3.10/site-packages/pandas/core/computation/expressions.py:21: UserWarning: Pandas requires version '2.8.4' or newer of 'numexpr' (version '2.8.1' currently installed).\n",
      "  from pandas.core.computation.check import NUMEXPR_INSTALLED\n",
      "/home/snkrkr/.local/lib/python3.10/site-packages/pandas/core/arrays/masked.py:60: UserWarning: Pandas requires version '1.3.6' or newer of 'bottleneck' (version '1.3.2' currently installed).\n",
      "  from pandas.core import (\n",
      "INFO:root:No auth_token provided, using ENV_USERNAME and ENV_PASSWORD\n"
     ]
    },
    {
     "name": "stdout",
     "output_type": "stream",
     "text": [
      "HAHAH {'X-ELS-APIKey': 'b94ab101ece6e10e5528612fa9fe5bd7', 'Accept': 'application/json'}\n",
      "BASE_AUTHOR_URL https://api.elsevier.com/content/search/author\n",
      "headers {'X-ELS-APIKey': 'b94ab101ece6e10e5528612fa9fe5bd7', 'Accept': 'application/json'}\n",
      "params {'query': 'AF-ID(60026606) AND AUTHFIRST(\"Franz\") AND AUTHOR-NAME(\"Roters\")', 'field': 'author-id', 'count': 1}\n"
     ]
    },
    {
     "ename": "RuntimeError",
     "evalue": "Scopus Author query API error 400: {\"service-error\":{\"status\":{\"statusCode\":\"INVALID_INPUT\",\"statusText\":\"Selected fields are either restricted for this service level or not mapped for this resource.\"}}}",
     "output_type": "error",
     "traceback": [
      "\u001b[0;31m---------------------------------------------------------------------------\u001b[0m",
      "\u001b[0;31mRuntimeError\u001b[0m                              Traceback (most recent call last)",
      "Cell \u001b[0;32mIn[1], line 12\u001b[0m\n\u001b[1;32m     10\u001b[0m pubyear_start \u001b[38;5;241m=\u001b[39m \u001b[38;5;241m2020\u001b[39m\n\u001b[1;32m     11\u001b[0m author \u001b[38;5;241m=\u001b[39m \u001b[38;5;124m'\u001b[39m\u001b[38;5;124mFranz Roters\u001b[39m\u001b[38;5;124m'\u001b[39m\n\u001b[0;32m---> 12\u001b[0m dois_scopus \u001b[38;5;241m=\u001b[39m \u001b[43mdoi_parser\u001b[49m\u001b[38;5;241;43m.\u001b[39;49m\u001b[43mscopus_manager\u001b[49m\u001b[38;5;241;43m.\u001b[39;49m\u001b[43mget_dois_for_author\u001b[49m\u001b[43m(\u001b[49m\u001b[43mauthor\u001b[49m\u001b[43m,\u001b[49m\u001b[43m \u001b[49m\u001b[43mpubyear_start\u001b[49m\u001b[38;5;241;43m=\u001b[39;49m\u001b[43mpubyear_start\u001b[49m\u001b[43m)\u001b[49m\n\u001b[1;32m     13\u001b[0m dois_scopus\n",
      "File \u001b[0;32m/mnt/c/Users/d.mentock/Music/pubman_manager/pubman_manager/api_manager_scopus.py:221\u001b[0m, in \u001b[0;36mScopusManager.get_dois_for_author\u001b[0;34m(self, author_name, pubyear_start, pubyear_end, extra_queries)\u001b[0m\n\u001b[1;32m    213\u001b[0m \u001b[38;5;28;01mdef\u001b[39;00m \u001b[38;5;21mget_dois_for_author\u001b[39m(\u001b[38;5;28mself\u001b[39m,\n\u001b[1;32m    214\u001b[0m                         author_name,\n\u001b[1;32m    215\u001b[0m                         pubyear_start\u001b[38;5;241m=\u001b[39m\u001b[38;5;28;01mNone\u001b[39;00m,\n\u001b[1;32m    216\u001b[0m                         pubyear_end\u001b[38;5;241m=\u001b[39m\u001b[38;5;28;01mNone\u001b[39;00m,\n\u001b[1;32m    217\u001b[0m                         extra_queries: List[\u001b[38;5;28mstr\u001b[39m] \u001b[38;5;241m=\u001b[39m \u001b[38;5;28;01mNone\u001b[39;00m) \u001b[38;5;241m-\u001b[39m\u001b[38;5;241m>\u001b[39m pd\u001b[38;5;241m.\u001b[39mDataFrame:\n\u001b[1;32m    218\u001b[0m \u001b[38;5;250m    \u001b[39m\u001b[38;5;124;03m\"\"\"\u001b[39;00m\n\u001b[1;32m    219\u001b[0m \u001b[38;5;124;03m    Use Scopus API to generate a list of DOIs for an author using their Author ID.\u001b[39;00m\n\u001b[1;32m    220\u001b[0m \u001b[38;5;124;03m    \"\"\"\u001b[39;00m\n\u001b[0;32m--> 221\u001b[0m     author_id \u001b[38;5;241m=\u001b[39m \u001b[38;5;28;43mself\u001b[39;49m\u001b[38;5;241;43m.\u001b[39;49m\u001b[43mget_author_id\u001b[49m\u001b[43m(\u001b[49m\u001b[43mauthor_name\u001b[49m\u001b[43m)\u001b[49m\n\u001b[1;32m    222\u001b[0m     query_components \u001b[38;5;241m=\u001b[39m [\u001b[38;5;124mf\u001b[39m\u001b[38;5;124m'\u001b[39m\u001b[38;5;124mAU-ID(\u001b[39m\u001b[38;5;132;01m{\u001b[39;00mauthor_id\u001b[38;5;132;01m}\u001b[39;00m\u001b[38;5;124m)\u001b[39m\u001b[38;5;124m'\u001b[39m]\n\u001b[1;32m    223\u001b[0m     \u001b[38;5;28;01mif\u001b[39;00m pubyear_start:\n",
      "File \u001b[0;32m/mnt/c/Users/d.mentock/Music/pubman_manager/pubman_manager/api_manager_scopus.py:210\u001b[0m, in \u001b[0;36mScopusManager.get_author_id\u001b[0;34m(self, author_name)\u001b[0m\n\u001b[1;32m    208\u001b[0m             \u001b[38;5;28;01mraise\u001b[39;00m \u001b[38;5;167;01mValueError\u001b[39;00m(\u001b[38;5;124m\"\u001b[39m\u001b[38;5;124mAuthor not found in Scopus.\u001b[39m\u001b[38;5;124m\"\u001b[39m)\n\u001b[1;32m    209\u001b[0m     \u001b[38;5;28;01melse\u001b[39;00m:\n\u001b[0;32m--> 210\u001b[0m         \u001b[38;5;28;01mraise\u001b[39;00m \u001b[38;5;167;01mRuntimeError\u001b[39;00m(\u001b[38;5;124mf\u001b[39m\u001b[38;5;124m\"\u001b[39m\u001b[38;5;124mScopus Author query API error \u001b[39m\u001b[38;5;132;01m{\u001b[39;00mresponse\u001b[38;5;241m.\u001b[39mstatus_code\u001b[38;5;132;01m}\u001b[39;00m\u001b[38;5;124m: \u001b[39m\u001b[38;5;132;01m{\u001b[39;00mresponse\u001b[38;5;241m.\u001b[39mtext\u001b[38;5;132;01m}\u001b[39;00m\u001b[38;5;124m\"\u001b[39m)\n\u001b[1;32m    211\u001b[0m \u001b[38;5;28;01mreturn\u001b[39;00m \u001b[38;5;28mself\u001b[39m\u001b[38;5;241m.\u001b[39mauthor_id_map[author_name]\n",
      "\u001b[0;31mRuntimeError\u001b[0m: Scopus Author query API error 400: {\"service-error\":{\"status\":{\"statusCode\":\"INVALID_INPUT\",\"statusText\":\"Selected fields are either restricted for this service level or not mapped for this resource.\"}}}"
     ]
    }
   ],
   "source": [
    "from pubman_manager import DOIParser, PubmanBase, PUBLICATIONS_DOIS_DIR\n",
    "import logging\n",
    "# logging.set\n",
    "import unicodedata\n",
    "logger = logging.getLogger('pubman_manager.api_manager_scopus')\n",
    "logger.setLevel(logging.DEBUG)\n",
    "pubman_api = PubmanBase()\n",
    "\n",
    "doi_parser = DOIParser(pubman_api)\n",
    "pubyear_start = 2020\n",
    "author = 'Franz Roters'\n",
    "dois_scopus = doi_parser.scopus_manager.get_dois_for_author(author, pubyear_start=pubyear_start)\n",
    "dois_scopus"
   ]
  },
  {
   "cell_type": "code",
   "execution_count": 1,
   "metadata": {},
   "outputs": [
    {
     "name": "stderr",
     "output_type": "stream",
     "text": [
      "/home/snkrkr/.local/lib/python3.10/site-packages/pandas/core/computation/expressions.py:21: UserWarning: Pandas requires version '2.8.4' or newer of 'numexpr' (version '2.8.1' currently installed).\n",
      "  from pandas.core.computation.check import NUMEXPR_INSTALLED\n",
      "/home/snkrkr/.local/lib/python3.10/site-packages/pandas/core/arrays/masked.py:60: UserWarning: Pandas requires version '1.3.6' or newer of 'bottleneck' (version '1.3.2' currently installed).\n",
      "  from pandas.core import (\n",
      "INFO:root:No auth_token provided, using ENV_USERNAME and ENV_PASSWORD\n",
      "DEBUG:pubman_manager.api_manager_scopus:scopus_metadata {'abstracts-retrieval-response': {'affiliation': [{'affiliation-city': 'Dusseldorf', 'affilname': 'Max-Planck-Institut für Eisenforschung GmbH', 'affiliation-country': 'Germany'}, {'affiliation-city': 'Chicago', 'affilname': 'Rush University Medical Center', 'affiliation-country': 'United States'}], 'coredata': {'srctype': 'j', 'prism:issueIdentifier': '5', 'eid': '2-s2.0-85078792374', 'prism:coverDate': '2020-03-01', 'prism:aggregationType': 'Journal', 'prism:url': 'https://api.elsevier.com/content/abstract/scopus_id/85078792374', 'subtypeDescription': 'Article', 'dc:creator': {'author': [{'ce:given-name': 'Shanoob', 'preferred-name': {'ce:given-name': 'Shanoob', 'ce:initials': 'S.', 'ce:surname': 'Balachandran', 'ce:indexed-name': 'Balachandran S.'}, '@seq': '1', 'ce:initials': 'S.', '@_fa': 'true', 'affiliation': {'@id': '60026606', '@href': 'https://api.elsevier.com/content/affiliation/affiliation_id/60026606'}, 'ce:surname': 'Balachandran', '@auid': '57078134400', 'author-url': 'https://api.elsevier.com/content/author/author_id/57078134400', 'ce:indexed-name': 'Balachandran S.'}]}, 'link': [{'@_fa': 'true', '@rel': 'self', '@href': 'https://api.elsevier.com/content/abstract/scopus_id/85078792374'}, {'@_fa': 'true', '@rel': 'scopus', '@href': 'https://www.scopus.com/inward/record.uri?partnerID=HzOxMe3b&scp=85078792374&origin=inward'}, {'@_fa': 'true', '@rel': 'scopus-citedby', '@href': 'https://www.scopus.com/inward/citedby.uri?partnerID=HzOxMe3b&scp=85078792374&origin=inward'}], 'prism:publicationName': 'Advanced Science', 'source-id': '21100470165', 'citedby-count': '40', 'prism:volume': '7', 'subtype': 'ar', 'dc:title': 'Atomic Scale Origin of Metal Ion Release from Hip Implant Taper Junctions', 'openaccess': '1', 'openaccessFlag': 'true', 'prism:doi': '10.1002/advs.201903008', 'prism:issn': '21983844', 'article-number': '1903008', 'dc:identifier': 'SCOPUS_ID:85078792374', 'dc:publisher': 'John Wiley and Sons Inc.cs-journals@wiley.com'}}}\n",
      "DEBUG:pubman_manager.api_manager_scopus:{'abstracts-retrieval-response': {'affiliation': [{'affiliation-city': 'Dusseldorf', 'affilname': 'Max-Planck-Institut für Eisenforschung GmbH', 'affiliation-country': 'Germany'}, {'affiliation-city': 'Chicago', 'affilname': 'Rush University Medical Center', 'affiliation-country': 'United States'}], 'coredata': {'srctype': 'j', 'prism:issueIdentifier': '5', 'eid': '2-s2.0-85078792374', 'prism:coverDate': '2020-03-01', 'prism:aggregationType': 'Journal', 'prism:url': 'https://api.elsevier.com/content/abstract/scopus_id/85078792374', 'subtypeDescription': 'Article', 'dc:creator': {'author': [{'ce:given-name': 'Shanoob', 'preferred-name': {'ce:given-name': 'Shanoob', 'ce:initials': 'S.', 'ce:surname': 'Balachandran', 'ce:indexed-name': 'Balachandran S.'}, '@seq': '1', 'ce:initials': 'S.', '@_fa': 'true', 'affiliation': {'@id': '60026606', '@href': 'https://api.elsevier.com/content/affiliation/affiliation_id/60026606'}, 'ce:surname': 'Balachandran', '@auid': '57078134400', 'author-url': 'https://api.elsevier.com/content/author/author_id/57078134400', 'ce:indexed-name': 'Balachandran S.'}]}, 'link': [{'@_fa': 'true', '@rel': 'self', '@href': 'https://api.elsevier.com/content/abstract/scopus_id/85078792374'}, {'@_fa': 'true', '@rel': 'scopus', '@href': 'https://www.scopus.com/inward/record.uri?partnerID=HzOxMe3b&scp=85078792374&origin=inward'}, {'@_fa': 'true', '@rel': 'scopus-citedby', '@href': 'https://www.scopus.com/inward/citedby.uri?partnerID=HzOxMe3b&scp=85078792374&origin=inward'}], 'prism:publicationName': 'Advanced Science', 'source-id': '21100470165', 'citedby-count': '40', 'prism:volume': '7', 'subtype': 'ar', 'dc:title': 'Atomic Scale Origin of Metal Ion Release from Hip Implant Taper Junctions', 'openaccess': '1', 'openaccessFlag': 'true', 'prism:doi': '10.1002/advs.201903008', 'prism:issn': '21983844', 'article-number': '1903008', 'dc:identifier': 'SCOPUS_ID:85078792374', 'dc:publisher': 'John Wiley and Sons Inc.cs-journals@wiley.com'}}}\n"
     ]
    },
    {
     "ename": "KeyError",
     "evalue": "'authors'",
     "output_type": "error",
     "traceback": [
      "\u001b[0;31m---------------------------------------------------------------------------\u001b[0m",
      "\u001b[0;31mKeyError\u001b[0m                                  Traceback (most recent call last)",
      "Cell \u001b[0;32mIn[1], line 11\u001b[0m\n\u001b[1;32m      9\u001b[0m doi_parser \u001b[38;5;241m=\u001b[39m DOIParser(pubman_api)\n\u001b[1;32m     10\u001b[0m doi \u001b[38;5;241m=\u001b[39m \u001b[38;5;124m'\u001b[39m\u001b[38;5;124m10.1002/advs.201903008\u001b[39m\u001b[38;5;124m'\u001b[39m\n\u001b[0;32m---> 11\u001b[0m dois_scopus \u001b[38;5;241m=\u001b[39m \u001b[43mdoi_parser\u001b[49m\u001b[38;5;241;43m.\u001b[39;49m\u001b[43mscopus_manager\u001b[49m\u001b[38;5;241;43m.\u001b[39;49m\u001b[43mget_overview\u001b[49m\u001b[43m(\u001b[49m\u001b[43mdoi\u001b[49m\u001b[43m)\u001b[49m\n\u001b[1;32m     12\u001b[0m dois_scopus\n",
      "File \u001b[0;32m/mnt/c/Users/d.mentock/Music/pubman_manager/pubman_manager/api_manager_scopus.py:85\u001b[0m, in \u001b[0;36mScopusManager.get_overview\u001b[0;34m(self, doi)\u001b[0m\n\u001b[1;32m     83\u001b[0m \u001b[38;5;28;01mif\u001b[39;00m publication_date:\n\u001b[1;32m     84\u001b[0m     overview[\u001b[38;5;124m'\u001b[39m\u001b[38;5;124mPublication Date\u001b[39m\u001b[38;5;124m'\u001b[39m] \u001b[38;5;241m=\u001b[39m publication_date\n\u001b[0;32m---> 85\u001b[0m author_affiliation_map \u001b[38;5;241m=\u001b[39m \u001b[38;5;28;43mself\u001b[39;49m\u001b[38;5;241;43m.\u001b[39;49m\u001b[43mextract_authors_affiliations\u001b[49m\u001b[43m(\u001b[49m\u001b[43mscopus_metadata\u001b[49m\u001b[43m)\u001b[49m\n\u001b[1;32m     86\u001b[0m is_mp_publication \u001b[38;5;241m=\u001b[39m \u001b[38;5;28;01mFalse\u001b[39;00m\n\u001b[1;32m     87\u001b[0m \u001b[38;5;28;01mfor\u001b[39;00m affiliations \u001b[38;5;129;01min\u001b[39;00m author_affiliation_map\u001b[38;5;241m.\u001b[39mvalues():\n",
      "File \u001b[0;32m/mnt/c/Users/d.mentock/Music/pubman_manager/pubman_manager/api_manager_scopus.py:131\u001b[0m, in \u001b[0;36mScopusManager.extract_authors_affiliations\u001b[0;34m(self, scopus_metadata)\u001b[0m\n\u001b[1;32m    127\u001b[0m \u001b[38;5;250m\u001b[39m\u001b[38;5;124;03m\"\"\"\u001b[39;00m\n\u001b[1;32m    128\u001b[0m \u001b[38;5;124;03mGenerates an ordered mapping from authors to their affiliations with the Scopus API\u001b[39;00m\n\u001b[1;32m    129\u001b[0m \u001b[38;5;124;03m\"\"\"\u001b[39;00m\n\u001b[1;32m    130\u001b[0m author_affiliation_map \u001b[38;5;241m=\u001b[39m OrderedDict()\n\u001b[0;32m--> 131\u001b[0m authors_list \u001b[38;5;241m=\u001b[39m \u001b[43mscopus_metadata\u001b[49m\u001b[43m[\u001b[49m\u001b[38;5;124;43m'\u001b[39;49m\u001b[38;5;124;43mabstracts-retrieval-response\u001b[39;49m\u001b[38;5;124;43m'\u001b[39;49m\u001b[43m]\u001b[49m\u001b[43m[\u001b[49m\u001b[38;5;124;43m'\u001b[39;49m\u001b[38;5;124;43mauthors\u001b[39;49m\u001b[38;5;124;43m'\u001b[39;49m\u001b[43m]\u001b[49m[\u001b[38;5;124m'\u001b[39m\u001b[38;5;124mauthor\u001b[39m\u001b[38;5;124m'\u001b[39m]\n\u001b[1;32m    132\u001b[0m author_groups \u001b[38;5;241m=\u001b[39m scopus_metadata[\u001b[38;5;124m'\u001b[39m\u001b[38;5;124mabstracts-retrieval-response\u001b[39m\u001b[38;5;124m'\u001b[39m][\u001b[38;5;124m'\u001b[39m\u001b[38;5;124mitem\u001b[39m\u001b[38;5;124m'\u001b[39m][\u001b[38;5;124m'\u001b[39m\u001b[38;5;124mbibrecord\u001b[39m\u001b[38;5;124m'\u001b[39m][\u001b[38;5;124m'\u001b[39m\u001b[38;5;124mhead\u001b[39m\u001b[38;5;124m'\u001b[39m][\u001b[38;5;124m'\u001b[39m\u001b[38;5;124mauthor-group\u001b[39m\u001b[38;5;124m'\u001b[39m]\n\u001b[1;32m    133\u001b[0m \u001b[38;5;28;01mif\u001b[39;00m \u001b[38;5;28misinstance\u001b[39m(author_groups, \u001b[38;5;28mdict\u001b[39m):\n",
      "\u001b[0;31mKeyError\u001b[0m: 'authors'"
     ]
    }
   ],
   "source": [
    "from pubman_manager import DOIParser, PubmanBase, PUBLICATIONS_DOIS_DIR\n",
    "import logging\n",
    "# logging.set\n",
    "import unicodedata\n",
    "logger = logging.getLogger('pubman_manager.api_manager_scopus')\n",
    "logger.setLevel(logging.DEBUG)\n",
    "pubman_api = PubmanBase()\n",
    "\n",
    "doi_parser = DOIParser(pubman_api)\n",
    "doi = '10.1002/advs.201903008'\n",
    "dois_scopus = doi_parser.scopus_manager.get_overview(doi)\n",
    "dois_scopus"
   ]
  },
  {
   "cell_type": "code",
   "execution_count": null,
   "metadata": {},
   "outputs": [],
   "source": [
    "from pubman_manager import DOIParser, PubmanBase, PUBLICATIONS_DOIS_DIR\n",
    "import logging\n",
    "# logging.set\n",
    "import unicodedata\n",
    "logger = logging.getLogger('pubman_manager.api_manager_scopus')\n",
    "logger.setLevel(logging.DEBUG)\n",
    "pubman_api = PubmanBase()\n",
    "\n",
    "doi_parser = DOIParser(pubman_api)\n",
    "doi = '10.1002/advs.201903008'\n",
    "dois_scopus = doi_parser.crossref_manager.get_overview(doi)\n",
    "dois_scopus"
   ]
  }
 ],
 "metadata": {
  "kernelspec": {
   "display_name": "Python 3",
   "language": "python",
   "name": "python3"
  },
  "language_info": {
   "codemirror_mode": {
    "name": "ipython",
    "version": 3
   },
   "file_extension": ".py",
   "mimetype": "text/x-python",
   "name": "python",
   "nbconvert_exporter": "python",
   "pygments_lexer": "ipython3",
   "version": "3.10.12"
  }
 },
 "nbformat": 4,
 "nbformat_minor": 2
}
