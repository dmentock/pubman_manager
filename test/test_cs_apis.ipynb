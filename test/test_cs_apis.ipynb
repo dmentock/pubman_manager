{
 "cells": [
  {
   "cell_type": "code",
   "execution_count": null,
   "metadata": {},
   "outputs": [
    {
     "name": "stderr",
     "output_type": "stream",
     "text": [
      "INFO:root:No auth_token provided, using ENV_USERNAME and ENV_PASSWORD\n",
      "DEBUG:pubman_manager.api_manager_crossref:crossref {'indexed': {'date-parts': [[2024, 9, 12]], 'date-time': '2024-09-12T08:49:58Z', 'timestamp': 1726130998457}, 'publisher-location': 'München, Germany', 'reference-count': 26, 'publisher': 'Carl Hanser Verlag GmbH & Co. KG', 'isbn-type': [{'type': 'electronic', 'value': '9783446471733'}], 'license': [{'start': {'date-parts': [[2021, 1, 1]], 'date-time': '2021-01-01T00:00:00Z', 'timestamp': 1609459200000}, 'content-version': 'tdm', 'delay-in-days': 0, 'URL': 'https://www.springernature.com/gp/researchers/text-and-data-mining'}, {'start': {'date-parts': [[2021, 1, 1]], 'date-time': '2021-01-01T00:00:00Z', 'timestamp': 1609459200000}, 'content-version': 'vor', 'delay-in-days': 0, 'URL': 'https://www.springernature.com/gp/researchers/text-and-data-mining'}, {'start': {'date-parts': [[2021, 1, 1]], 'date-time': '2021-01-01T00:00:00Z', 'timestamp': 1609459200000}, 'content-version': 'tdm', 'delay-in-days': 0, 'URL': 'https://www.springernature.com/gp/researchers/text-and-data-mining'}, {'start': {'date-parts': [[2021, 1, 1]], 'date-time': '2021-01-01T00:00:00Z', 'timestamp': 1609459200000}, 'content-version': 'vor', 'delay-in-days': 0, 'URL': 'https://www.springernature.com/gp/researchers/text-and-data-mining'}], 'content-domain': {'domain': [], 'crossmark-restriction': False}, 'short-container-title': [], 'published-print': {'date-parts': [[2021]]}, 'DOI': '10.1007/978-3-446-47173-3_4', 'type': 'book-chapter', 'created': {'date-parts': [[2023, 11, 3]], 'date-time': '2023-11-03T13:02:42Z', 'timestamp': 1699016562000}, 'page': '53-66', 'source': 'Crossref', 'is-referenced-by-count': 0, 'title': ['Richtungsabhängigkeit der mechanischen Eigenschaften von mittels Binder Jetting gefertigtem, rostfreiem 17-4 PH Stahl.'], 'prefix': '10.1007', 'author': [{'given': 'Daniel', 'family': 'Huber', 'sequence': 'first', 'affiliation': []}, {'given': 'Alfons', 'family': 'Fischer', 'sequence': 'additional', 'affiliation': []}], 'member': '297', 'reference': [{'key': '4_CR1', 'volume-title': 'Die Bibliothek der Technik', 'author': 'C Burkhardt', 'year': '2013', 'unstructured': 'Burkhardt C (2013) Metallpulverspritzguss. Fertigung komplexer Bauteile in höchster Präzision. Die Bibliothek der Technik, Bd 359. Verl. Moderne Industrie, Landsberg'}, {'key': '4_CR2', 'doi-asserted-by': 'publisher', 'first-page': '205', 'DOI': '10.1007/978-1-4939-2113-3_8', 'volume-title': 'Additive Manufacturing Technologies', 'author': 'I Gibson', 'year': '2015', 'unstructured': 'Gibson I, Rosen D, Stucker B (2015) Binder Jetting. In: Gibson I, Rosen D, Stucker B (Hrsg) Additive Manufacturing Technologies, Bd 114. Springer New York, New York, NY, S 205–218'}, {'issue': '12', 'key': '4_CR3', 'doi-asserted-by': 'publisher', 'first-page': '4421', 'DOI': '10.1007/s11665-014-1226-y', 'volume': '23', 'author': 'HK Rafi', 'year': '2014', 'unstructured': 'Rafi HK, Pal D, Patil N, Starr TL, Stucker BE (2014) Microstructure and Mechanical Behavior of 17-4 Precipitation Hardenable Steel Processed by Selective Laser Melting. J. of Materi Eng and Perform 23(12):4421–4428. doi:10.1007/s11665-014-1226-y', 'journal-title': 'J. of Materi Eng and Perform'}, {'issue': '2', 'key': '4_CR4', 'doi-asserted-by': 'publisher', 'first-page': '280', 'DOI': '10.1108/RPJ-12-2015-0192', 'volume': '23', 'author': 'M Mahmoudi', 'year': '2017', 'unstructured': 'Mahmoudi M, Elwany A, Yadollahi A, Thompson SM, Bian L, Shamsaei N (2017) Mechanical properties and microstructural characterization of selective laser melted 17-4 PH stainless steel. Rapid Prototyping Journal 23(2):280–294. doi:10.1108/RPJ-12-2015-0192', 'journal-title': 'Rapid Prototyping Journal'}, {'key': '4_CR5', 'volume-title': 'Fatigue behavior of additively manufactured 17-4 PH stainless steel: The effects of part location and powder re-use', 'author': 'A Soltani-Tehrani', 'year': '2020', 'unstructured': 'Soltani-Tehrani A, Pegues J, Shamsaei N (2020) Fatigue behavior of additively manufactured 17-4 PH stainless steel: The effects of part location and powder re-use. Additive Manufacturing 36:101398. doi:10.1016/j.addma.2020.101398'}, {'key': '4_CR6', 'series-title': 'Progress in Materials Science', 'doi-asserted-by': 'publisher', 'DOI': '10.1016/j.pmatsci.2020.100684', 'volume-title': 'Binder jet 3D printing – Process parameters, materials, properties, and challenges', 'author': 'A Mostafaei', 'year': '2020', 'unstructured': 'Mostafaei A, Elliott AM, Barnes JE, Li F, Tan W, Cramer CL, Nandwana P, Chmielus M (2020) Binder jet 3D printing – Process parameters, materials, properties, and challenges. Progress in Materials Science:100707. doi:10.1016/j.pmatsci.2020.100707'}, {'key': '4_CR7', 'first-page': '49', 'volume': '12', 'author': 'RM German', 'year': '2018', 'unstructured': 'German RM (2018) MIM 17-4 PH Stainless Steel: Processing, properties and best practice. PIM International 2018(Vol. 12):49–76', 'journal-title': 'PIM International'}, {'key': '4_CR8', 'doi-asserted-by': 'publisher', 'first-page': '321', 'DOI': '10.1016/S0924-0136(02)00739-2', 'volume': '130-131', 'author': 'H-J Sung', 'year': '2002', 'unstructured': 'Sung H-J, Ha TK, Ahn S, Chang YW (2002) Powder injection molding of a 17-4 PH stainless steel and the effect of sintering temperature on its microstructure and mechanical properties. Journal of Materials Processing Technology 130-131:321–327. doi:10.1016/S0924-0136(02)00739-2', 'journal-title': 'Journal of Materials Processing Technology'}, {'issue': '47', 'key': '4_CR9', 'first-page': '21', 'volume': '2010', 'author': 'K Murray', 'year': '2010', 'unstructured': 'Murray K, Coleman AJ, Tingskog TA, Whychell Sr DT (2010) Effect of Particle Size Distribution on Processing and Properties of MIM 17-4PH. International Journal of Powder Metallurgy 2010(47):21–29', 'journal-title': 'International Journal of Powder Metallurgy'}, {'issue': '7', 'key': '4_CR10', 'doi-asserted-by': 'publisher', 'first-page': '2185', 'DOI': '10.1007/s11661-002-0050-4', 'volume': '33', 'author': 'Y Wu', 'year': '2002', 'unstructured': 'Wu Y, Blaine D, Schlaefer C, Marx B, German RM (2002) Sintering Densification and Microstructural Evolution of Injection Molding Grade 17-4 PH Stainless Steel Powder. MTA 33(7):2185–2194. doi:10.1007/s11661-002-0050-4', 'journal-title': 'MTA'}, {'key': '4_CR11', 'doi-asserted-by': 'publisher', 'DOI': '10.4028/www.scientific.net/MSF.449-452.785', 'volume-title': 'An Investigation on the Strength-Porosity Relation in Sintered 17-4 PH STS Produced by Powder Injection Molding', 'author': 'HJ Sung', 'year': '2004', 'unstructured': 'Sung HJ, Ha TK, Ahn SH, Chang YW (2004) An Investigation on the Strength-Porosity Relation in Sintered 17-4 PH STS Produced by Powder Injection Molding. MSF 449-452:785–788. doi:10.4028/www.scientific.net/MSF.449-452.785'}, {'key': '4_CR12', 'doi-asserted-by': 'publisher', 'first-page': '375', 'DOI': '10.1016/j.matdes.2018.11.051', 'volume': '162', 'author': 'A Mostafaei', 'year': '2019', 'unstructured': 'Mostafaei A, Rodriguez De Vecchis P, Nettleship I, Chmielus M (2019) Effect of powder size distribution on densification and microstructural evolution of binder-jet 3D-printed alloy 625. Materials & Design 162:375–383. doi:10.1016/j.matdes.2018.11.051', 'journal-title': 'Materials & Design'}, {'key': '4_CR13', 'unstructured': 'Huber D, Vogel L, Fischer A (Under review) The Effects of Sintering Temperature and Hold Time on Densification, Mechanical Properties and Microstructural Characteristics of Binder Jet 3D Printed 17-4 PH Stainless Steel. Additive Manufacturing'}, {'issue': '4', 'key': '4_CR14', 'doi-asserted-by': 'publisher', 'first-page': '794', 'DOI': '10.1007/s11663-013-9875-z', 'volume': '44', 'author': 'T Niendorf', 'year': '2013', 'unstructured': 'Niendorf T, Leuders S, Riemer A, Richard HA, Tröster T, Schwarze D (2013) Highly Anisotropic Steel Processed by Selective Laser Melting. Metall and Materi Trans B 44(4):794–796. doi:10.1007/s11663-013-9875-z', 'journal-title': 'Metall and Materi Trans B'}, {'issue': '5', 'key': '4_CR15', 'doi-asserted-by': 'publisher', 'first-page': 'SMM0049', 'DOI': '10.1299/mej.2014smm0049', 'volume': '1', 'author': 'T LeBrun', 'year': '2014', 'unstructured': 'LeBrun T, TANIGAKI K, Horikawa K, Kobayashi H (2014) Strain rate sensitivity and mechanical anisotropy of selective laser melted 17-4 PH stainless steel. Mechanical Engineering Journal 1(5):SMM0049-SMM0049. doi:10.1299/mej.2014smm0049', 'journal-title': 'Mechanical Engineering Journal'}, {'key': '4_CR16', 'doi-asserted-by': 'publisher', 'first-page': '398', 'DOI': '10.6028/jres.119.015', 'volume': '119', 'author': 'WE Luecke', 'year': '2014', 'unstructured': 'Luecke WE, Slotwinski JA (2014) Mechanical Properties of Austenitic Stainless Steel Made by Additive Manufacturing. J Res Natl Inst Stand Technol 119:398–418. doi:10.6028/jres.119.015', 'journal-title': 'J Res Natl Inst Stand Technol'}, {'key': '4_CR17', 'unstructured': 'Yadollahi A, Shamsaei N, Thompson SM, Elwany A, Bian L (11132015) Mechanical and Microstructural Properties of Selective Laser Melted 17-4 PH Stainless Steel Volume 2A: Advanced Manufacturing. American Society of Mechanical Engineers'}, {'issue': '5-8', 'key': '4_CR18', 'doi-asserted-by': 'publisher', 'first-page': '639', 'DOI': '10.1007/s00170-010-2631-5', 'volume': '51', 'author': 'I Tolosa', 'year': '2010', 'unstructured': 'Tolosa I, Garciandía F, Zubiri F, Zapirain F, Esnaola A (2010) Study of mechanical properties of AISI 316 stainless steel processed by “selective laser melting”, following different manufacturing strategies. Int J Adv Manuf Technol 51(5-8):639–647. doi:10.1007/s00170-010-2631-5', 'journal-title': 'Int J Adv Manuf Technol'}, {'key': '4_CR19', 'series-title': 'Materials (Basel)', 'volume-title': 'On the Anisotropic Mechanical Properties of Selective Laser-Melted Stainless Steel', 'author': 'L Hitzler', 'year': '2017', 'unstructured': 'Hitzler L, Hirsch J, Heine B, Merkel M, Hall W, Öchsner A (2017) On the Anisotropic Mechanical Properties of Selective Laser-Melted Stainless Steel. Materials (Basel) 10(10). doi:10.3390/ma10101136'}, {'issue': '2', 'key': '4_CR20', 'doi-asserted-by': 'publisher', 'first-page': '120', 'DOI': '10.1179/pom.1995.38.2.120', 'volume': '38', 'author': 'T Tunberg', 'year': '1995', 'unstructured': 'Tunberg T, Nyborg L (1995) Surface Reactions During Water Atomisation and Sintering of Austenitic Stainless Steel Powder. Powder Metallurgy 38(2):120–130. doi:10.1179/pom.1995.38.2.120', 'journal-title': 'Powder Metallurgy'}, {'issue': '12', 'key': '4_CR21', 'doi-asserted-by': 'publisher', 'first-page': '2243', 'DOI': '10.2320/matertrans.M2010209', 'volume': '51', 'author': 'C-W Chang', 'year': '2010', 'unstructured': 'Chang C-W, Chen P-H, Hwang K-S (2010) Enhanced Mechanical Properties of Injection Molded 17-4PH Stainless Steel through Reduction of Silica Particles by Graphite Additions. Mater. Trans. 51(12):2243–2250. doi:10.2320/matertrans.M2010209', 'journal-title': 'Mater. Trans.'}, {'issue': '17', 'key': '4_CR22', 'doi-asserted-by': 'publisher', 'first-page': '3573', 'DOI': '10.1023/A:1016532418920', 'volume': '37', 'author': 'Y Wu', 'year': '2002', 'unstructured': 'Wu Y, German RM, Blaine D, Marx B, Schlaefer C (2002) Effects of residual carbon content on sintering shrinkage, microstructure and mechanical properties of injection molded 17-4 PH stainless steel. Journal of Materials Science 37(17):3573–3583. doi:10.1023/A:1016532418920', 'journal-title': 'Journal of Materials Science'}, {'key': '4_CR23', 'doi-asserted-by': 'publisher', 'first-page': '899', 'DOI': '10.1016/j.proeng.2014.11.112', 'volume': '86', 'author': 'K Kumar', 'year': '2014', 'unstructured': 'Kumar K, Pooleery A, Madhusoodanan K, Singh RN, Chakravartty JK, Dutta BK, Sinha RK (2014) Use of Miniature Tensile Specimen for Measurement of Mechanical Properties. Procedia Engineering 86:899–909. doi:10.1016/j.proeng.2014.11.112', 'journal-title': 'Procedia Engineering'}, {'issue': '6', 'key': '4_CR24', 'doi-asserted-by': 'publisher', 'first-page': '20', 'DOI': '10.1007/s11837-007-0072-x', 'volume': '59', 'author': 'S Luidold', 'year': '2007', 'unstructured': 'Luidold S, Antrekowitsch H (2007) Hydrogen as a reducing agent: State-of-the-art science and technology. JOM 59(6):20–26. doi:10.1007/s11837-007-0072-x', 'journal-title': 'JOM'}, {'issue': '1-2', 'key': '4_CR25', 'doi-asserted-by': 'publisher', 'first-page': '171', 'DOI': '10.1016/j.msea.2004.08.002', 'volume': '390', 'author': 'RP Koseski', 'year': '2005', 'unstructured': 'Koseski RP, Suri P, Earhardt NB, German RM, Kwon Y-S (2005) Microstructural evolution of injection molded gas- and water-atomized 316L stainless steel powder during sintering. Materials Science and Engineering: A 390(1-2):171–177. doi:10.1016/j.msea.2004.08.002', 'journal-title': 'Materials Science and Engineering: A'}, {'issue': '11', 'key': '4_CR26', 'doi-asserted-by': 'publisher', 'first-page': '5548', 'DOI': '10.1007/s11661-016-3687-0', 'volume': '47', 'author': 'D Im Jung', 'year': '2016', 'unstructured': 'Im Jung D, Ha S, Park SJ, Blaine DC, Bollina R, German RM (2016) Two-Phase Master Sintering Curve for 17-4 PH Stainless Steel. MTA 47(11):5548–5556. doi:10.1007/s11661-016-3687-0', 'journal-title': 'MTA'}], 'container-title': ['Proceedings of the 17th Rapid.Tech 3D Conference Erfurt, Germany, 22–23 June 2021'], 'original-title': [], 'language': 'de', 'deposited': {'date-parts': [[2023, 11, 3]], 'date-time': '2023-11-03T13:13:56Z', 'timestamp': 1699017236000}, 'score': 1, 'resource': {'primary': {'URL': 'https://www.springerprofessional.de/doi/10.1007/978-3-446-47173-3_4'}}, 'subtitle': [], 'short-title': [], 'issued': {'date-parts': [[2021]]}, 'ISBN': ['9783446471733'], 'references-count': 26, 'URL': 'https://doi.org/10.1007/978-3-446-47173-3_4', 'relation': {'is-identical-to': [{'id-type': 'doi', 'id': '10.3139/9783446471733.004', 'asserted-by': 'subject'}]}, 'subject': [], 'published': {'date-parts': [[2021]]}}\n",
      "INFO:pubman_manager.api_manager_crossref:Skipping Book DOI: 10.1007/978-3-446-47173-3_4\n"
     ]
    },
    {
     "data": {
      "text/plain": [
       "('10.1007/978-3-446-47173-3_4',\n",
       " {'Title': 'Richtungsabhängigkeit der mechanischen Eigenschaften von mittels Binder Jetting gefertigtem, rostfreiem 17-4 PH Stahl.',\n",
       "  'Publication Date': None,\n",
       "  'crossref': 'https://doi.org/10.1007/978-3-446-47173-3_4',\n",
       "  'Field': \"Has ISBN: ['9783446471733']\"})"
      ]
     },
     "execution_count": 2,
     "metadata": {},
     "output_type": "execute_result"
    }
   ],
   "source": [
    "from pubman_manager import DOIParser, PubmanBase, PUBLICATIONS_DOIS_DIR\n",
    "import logging\n",
    "# logging.set\n",
    "import unicodedata\n",
    "logger = logging.getLogger('pubman_manager.api_manager_crossref')\n",
    "logger.setLevel(logging.DEBUG)\n",
    "pubman_api = PubmanBase()\n",
    "\n",
    "doi_parser = DOIParser(pubman_api)\n",
    "# pubyear_start = 2020\n",
    "# author = 'Alfons Fischer'\n",
    "# doi_parser.crossref_manager.get_overview('10.1007/978-3-446-47173-3_4')\n",
    "doi_parser.has_pubman_entry('10.1007/978-3-446-47173-3_4')"
   ]
  },
  {
   "cell_type": "code",
   "execution_count": 2,
   "metadata": {},
   "outputs": [
    {
     "name": "stderr",
     "output_type": "stream",
     "text": [
      "INFO:root:No auth_token provided, using ENV_USERNAME and ENV_PASSWORD\n"
     ]
    },
    {
     "name": "stdout",
     "output_type": "stream",
     "text": [
      "BASE_AUTHOR_URL https://api.elsevier.com/content/search/author\n",
      "headers {'X-ELS-APIKey': 'b94ab101ece6e10e5528612fa9fe5bd7', 'Accept': 'application/json'}\n",
      "params {'query': 'AUTHLASTNAME(\"Fischer\") AND AUTHFIRST(\"Alfons\") AND (AFFIL(\"Max-Planck-Institut für Eisenforschung GmbH\") OR AFFIL(\"Max Planck Institute for Sustainable Materials\"))', 'count': 1}\n",
      "data {'search-results': {'opensearch:totalResults': '1', 'opensearch:startIndex': '0', 'opensearch:itemsPerPage': '1', 'opensearch:Query': {'@role': 'request', '@searchTerms': 'AUTHLASTNAME(\"Fischer\") AND AUTHFIRST(\"Alfons\") AND (AFFIL(\"Max-Planck-Institut für Eisenforschung GmbH\") OR AFFIL(\"Max Planck Institute for Sustainable Materials\"))', '@startPage': '0'}, 'link': [{'@_fa': 'true', '@ref': 'self', '@href': 'https://api.elsevier.com/content/search/author?start=0&count=1&query=AUTHLASTNAME%28%22Fischer%22%29+AND+AUTHFIRST%28%22Alfons%22%29+AND+%28AFFIL%28%22Max-Planck-Institut+f%C3%BCr+Eisenforschung+GmbH%22%29+OR+AFFIL%28%22Max+Planck+Institute+for+Sustainable+Materials%22%29%29', '@type': 'application/json'}, {'@_fa': 'true', '@ref': 'first', '@href': 'https://api.elsevier.com/content/search/author?start=0&count=1&query=AUTHLASTNAME%28%22Fischer%22%29+AND+AUTHFIRST%28%22Alfons%22%29+AND+%28AFFIL%28%22Max-Planck-Institut+f%C3%BCr+Eisenforschung+GmbH%22%29+OR+AFFIL%28%22Max+Planck+Institute+for+Sustainable+Materials%22%29%29', '@type': 'application/json'}, {'@_fa': 'true', '@ref': 'last', '@href': 'https://api.elsevier.com/content/search/author?start=0&count=1&query=AUTHLASTNAME%28%22Fischer%22%29+AND+AUTHFIRST%28%22Alfons%22%29+AND+%28AFFIL%28%22Max-Planck-Institut+f%C3%BCr+Eisenforschung+GmbH%22%29+OR+AFFIL%28%22Max+Planck+Institute+for+Sustainable+Materials%22%29%29', '@type': 'application/json'}], 'entry': [{'@_fa': 'true', 'link': [{'@_fa': 'true', '@ref': 'self', '@href': 'https://api.elsevier.com/content/author/author_id/7403486351'}, {'@_fa': 'true', '@ref': 'search', '@href': 'https://api.elsevier.com/content/search/author?query=au-id%287403486351%29'}, {'@_fa': 'true', '@ref': 'scopus-citedby', '@href': 'https://www.scopus.com/author/citedby.uri?partnerID=HzOxMe3b&citedAuthorId=7403486351&origin=inward'}, {'@_fa': 'true', '@ref': 'scopus-author', '@href': 'https://www.scopus.com/authid/detail.uri?partnerID=HzOxMe3b&authorId=7403486351&origin=inward'}], 'prism:url': 'https://api.elsevier.com/content/author/author_id/7403486351', 'dc:identifier': 'AUTHOR_ID:7403486351', 'eid': '9-s2.0-7403486351', 'orcid': '[0000-0003-0407-2813]', 'preferred-name': {'surname': 'Fischer', 'given-name': 'Alfons', 'initials': 'A.'}, 'name-variant': [{'@_fa': 'true', 'surname': 'Fischer', 'given-name': 'A.', 'initials': 'A.'}, {'@_fa': 'true', 'surname': 'fischer', 'given-name': 'A.', 'initials': 'A.'}, {'@_fa': 'true', 'surname': 'Fischer', 'given-name': 'Aifons', 'initials': 'A.'}], 'document-count': '172', 'subject-area': [{'@abbrev': 'ENGI', '@frequency': '186', '$': 'Engineering (all)'}, {'@abbrev': 'MATE', '@frequency': '183', '$': 'Materials Science (all)'}, {'@abbrev': 'PHYS', '@frequency': '67', '$': 'Physics and Astronomy (all)'}], 'affiliation-current': {'affiliation-url': 'https://api.elsevier.com/content/affiliation/affiliation_id/60018691', 'affiliation-id': '60018691', 'affiliation-name': 'Rush University Medical Center', 'affiliation-city': 'Chicago', 'affiliation-country': 'United States'}}]}}\n"
     ]
    },
    {
     "data": {
      "text/plain": [
       "'7403486351'"
      ]
     },
     "execution_count": 2,
     "metadata": {},
     "output_type": "execute_result"
    }
   ],
   "source": [
    "\n",
    "from pubman_manager import DOIParser, PubmanBase, PUBLICATIONS_DOIS_DIR\n",
    "import logging\n",
    "# logging.set\n",
    "import unicodedata\n",
    "logger = logging.getLogger('pubman_manager.api_manager_scopus')\n",
    "logger.setLevel(logging.DEBUG)\n",
    "pubman_api = PubmanBase()\n",
    "\n",
    "doi_parser = DOIParser(pubman_api)\n",
    "pubyear_start = 2020\n",
    "author = 'Alfons Fischer'\n",
    "doi_parser.scopus_manager.get_author_id(author)\n"
   ]
  },
  {
   "cell_type": "code",
   "execution_count": 1,
   "metadata": {},
   "outputs": [
    {
     "name": "stderr",
     "output_type": "stream",
     "text": [
      "/home/snkrkr/.local/lib/python3.10/site-packages/pandas/core/computation/expressions.py:21: UserWarning: Pandas requires version '2.8.4' or newer of 'numexpr' (version '2.8.1' currently installed).\n",
      "  from pandas.core.computation.check import NUMEXPR_INSTALLED\n",
      "/home/snkrkr/.local/lib/python3.10/site-packages/pandas/core/arrays/masked.py:60: UserWarning: Pandas requires version '1.3.6' or newer of 'bottleneck' (version '1.3.2' currently installed).\n",
      "  from pandas.core import (\n",
      "INFO:root:No auth_token provided, using ENV_USERNAME and ENV_PASSWORD\n"
     ]
    },
    {
     "data": {
      "text/plain": [
       "['10.1088/1361-651x/ab7f8c',\n",
       " '10.26434/chemrxiv-2024-2h7kn',\n",
       " '10.1038/s41467-024-52123-w',\n",
       " '10.1016/j.ijsolstr.2022.111801',\n",
       " '10.26434/chemrxiv-2024-2h7kn-v2',\n",
       " '10.1016/j.ijplas.2019.09.004',\n",
       " '10.1016/j.actamat.2022.118444',\n",
       " '10.1016/j.jmatprotec.2019.116449',\n",
       " '10.1016/j.actamat.2019.12.003',\n",
       " '10.3390/ma14030691',\n",
       " '10.1016/j.actamat.2022.118167',\n",
       " '10.1007/s11661-022-06846-4',\n",
       " '10.1007/s11661-022-06710-5',\n",
       " '10.1016/j.actamat.2023.119043',\n",
       " '10.1016/j.mechmat.2021.104117',\n",
       " '10.1016/j.ijplas.2021.103078',\n",
       " '10.2139/ssrn.4051534',\n",
       " '10.3390/cryst13040673',\n",
       " '10.1088/1361-651x/ab71c0',\n",
       " '10.1007/s11661-024-07472-y',\n",
       " '10.1016/j.msea.2023.145373',\n",
       " '10.1002/adem.201901044',\n",
       " '10.1038/s41524-022-00764-0',\n",
       " '10.1557/s43578-023-01082-x']"
      ]
     },
     "execution_count": 1,
     "metadata": {},
     "output_type": "execute_result"
    }
   ],
   "source": [
    "from pubman_manager import DOIParser, PubmanBase, PUBLICATIONS_DOIS_DIR\n",
    "import logging\n",
    "# logging.set\n",
    "import unicodedata\n",
    "logger = logging.getLogger('pubman_manager.api_manager_scopus')\n",
    "logger.setLevel(logging.DEBUG)\n",
    "pubman_api = PubmanBase()\n",
    "\n",
    "doi_parser = DOIParser(pubman_api)\n",
    "pubyear_start = 2020\n",
    "author = 'Franz Roters'\n",
    "dois_scopus = doi_parser.crossref_manager.get_dois_for_author(author, pubyear_start=pubyear_start)\n",
    "dois_scopus"
   ]
  },
  {
   "cell_type": "code",
   "execution_count": 1,
   "metadata": {},
   "outputs": [
    {
     "name": "stderr",
     "output_type": "stream",
     "text": [
      "/home/snkrkr/.local/lib/python3.10/site-packages/pandas/core/computation/expressions.py:21: UserWarning: Pandas requires version '2.8.4' or newer of 'numexpr' (version '2.8.1' currently installed).\n",
      "  from pandas.core.computation.check import NUMEXPR_INSTALLED\n",
      "/home/snkrkr/.local/lib/python3.10/site-packages/pandas/core/arrays/masked.py:60: UserWarning: Pandas requires version '1.3.6' or newer of 'bottleneck' (version '1.3.2' currently installed).\n",
      "  from pandas.core import (\n",
      "INFO:root:No auth_token provided, using ENV_USERNAME and ENV_PASSWORD\n"
     ]
    },
    {
     "name": "stdout",
     "output_type": "stream",
     "text": [
      "HAHAH {'X-ELS-APIKey': 'b94ab101ece6e10e5528612fa9fe5bd7', 'Accept': 'application/json'}\n",
      "BASE_AUTHOR_URL https://api.elsevier.com/content/search/author\n",
      "headers {'X-ELS-APIKey': 'b94ab101ece6e10e5528612fa9fe5bd7', 'Accept': 'application/json'}\n",
      "params {'query': 'AF-ID(60026606) AND AUTHFIRST(\"Franz\") AND AUTHOR-NAME(\"Roters\")', 'field': 'author-id', 'count': 1}\n"
     ]
    },
    {
     "ename": "RuntimeError",
     "evalue": "Scopus Author query API error 400: {\"service-error\":{\"status\":{\"statusCode\":\"INVALID_INPUT\",\"statusText\":\"Selected fields are either restricted for this service level or not mapped for this resource.\"}}}",
     "output_type": "error",
     "traceback": [
      "\u001b[0;31m---------------------------------------------------------------------------\u001b[0m",
      "\u001b[0;31mRuntimeError\u001b[0m                              Traceback (most recent call last)",
      "Cell \u001b[0;32mIn[1], line 12\u001b[0m\n\u001b[1;32m     10\u001b[0m pubyear_start \u001b[38;5;241m=\u001b[39m \u001b[38;5;241m2020\u001b[39m\n\u001b[1;32m     11\u001b[0m author \u001b[38;5;241m=\u001b[39m \u001b[38;5;124m'\u001b[39m\u001b[38;5;124mFranz Roters\u001b[39m\u001b[38;5;124m'\u001b[39m\n\u001b[0;32m---> 12\u001b[0m dois_scopus \u001b[38;5;241m=\u001b[39m \u001b[43mdoi_parser\u001b[49m\u001b[38;5;241;43m.\u001b[39;49m\u001b[43mscopus_manager\u001b[49m\u001b[38;5;241;43m.\u001b[39;49m\u001b[43mget_dois_for_author\u001b[49m\u001b[43m(\u001b[49m\u001b[43mauthor\u001b[49m\u001b[43m,\u001b[49m\u001b[43m \u001b[49m\u001b[43mpubyear_start\u001b[49m\u001b[38;5;241;43m=\u001b[39;49m\u001b[43mpubyear_start\u001b[49m\u001b[43m)\u001b[49m\n\u001b[1;32m     13\u001b[0m dois_scopus\n",
      "File \u001b[0;32m/mnt/c/Users/d.mentock/Music/pubman_manager/pubman_manager/api_manager_scopus.py:221\u001b[0m, in \u001b[0;36mScopusManager.get_dois_for_author\u001b[0;34m(self, author_name, pubyear_start, pubyear_end, extra_queries)\u001b[0m\n\u001b[1;32m    213\u001b[0m \u001b[38;5;28;01mdef\u001b[39;00m \u001b[38;5;21mget_dois_for_author\u001b[39m(\u001b[38;5;28mself\u001b[39m,\n\u001b[1;32m    214\u001b[0m                         author_name,\n\u001b[1;32m    215\u001b[0m                         pubyear_start\u001b[38;5;241m=\u001b[39m\u001b[38;5;28;01mNone\u001b[39;00m,\n\u001b[1;32m    216\u001b[0m                         pubyear_end\u001b[38;5;241m=\u001b[39m\u001b[38;5;28;01mNone\u001b[39;00m,\n\u001b[1;32m    217\u001b[0m                         extra_queries: List[\u001b[38;5;28mstr\u001b[39m] \u001b[38;5;241m=\u001b[39m \u001b[38;5;28;01mNone\u001b[39;00m) \u001b[38;5;241m-\u001b[39m\u001b[38;5;241m>\u001b[39m pd\u001b[38;5;241m.\u001b[39mDataFrame:\n\u001b[1;32m    218\u001b[0m \u001b[38;5;250m    \u001b[39m\u001b[38;5;124;03m\"\"\"\u001b[39;00m\n\u001b[1;32m    219\u001b[0m \u001b[38;5;124;03m    Use Scopus API to generate a list of DOIs for an author using their Author ID.\u001b[39;00m\n\u001b[1;32m    220\u001b[0m \u001b[38;5;124;03m    \"\"\"\u001b[39;00m\n\u001b[0;32m--> 221\u001b[0m     author_id \u001b[38;5;241m=\u001b[39m \u001b[38;5;28;43mself\u001b[39;49m\u001b[38;5;241;43m.\u001b[39;49m\u001b[43mget_author_id\u001b[49m\u001b[43m(\u001b[49m\u001b[43mauthor_name\u001b[49m\u001b[43m)\u001b[49m\n\u001b[1;32m    222\u001b[0m     query_components \u001b[38;5;241m=\u001b[39m [\u001b[38;5;124mf\u001b[39m\u001b[38;5;124m'\u001b[39m\u001b[38;5;124mAU-ID(\u001b[39m\u001b[38;5;132;01m{\u001b[39;00mauthor_id\u001b[38;5;132;01m}\u001b[39;00m\u001b[38;5;124m)\u001b[39m\u001b[38;5;124m'\u001b[39m]\n\u001b[1;32m    223\u001b[0m     \u001b[38;5;28;01mif\u001b[39;00m pubyear_start:\n",
      "File \u001b[0;32m/mnt/c/Users/d.mentock/Music/pubman_manager/pubman_manager/api_manager_scopus.py:210\u001b[0m, in \u001b[0;36mScopusManager.get_author_id\u001b[0;34m(self, author_name)\u001b[0m\n\u001b[1;32m    208\u001b[0m             \u001b[38;5;28;01mraise\u001b[39;00m \u001b[38;5;167;01mValueError\u001b[39;00m(\u001b[38;5;124m\"\u001b[39m\u001b[38;5;124mAuthor not found in Scopus.\u001b[39m\u001b[38;5;124m\"\u001b[39m)\n\u001b[1;32m    209\u001b[0m     \u001b[38;5;28;01melse\u001b[39;00m:\n\u001b[0;32m--> 210\u001b[0m         \u001b[38;5;28;01mraise\u001b[39;00m \u001b[38;5;167;01mRuntimeError\u001b[39;00m(\u001b[38;5;124mf\u001b[39m\u001b[38;5;124m\"\u001b[39m\u001b[38;5;124mScopus Author query API error \u001b[39m\u001b[38;5;132;01m{\u001b[39;00mresponse\u001b[38;5;241m.\u001b[39mstatus_code\u001b[38;5;132;01m}\u001b[39;00m\u001b[38;5;124m: \u001b[39m\u001b[38;5;132;01m{\u001b[39;00mresponse\u001b[38;5;241m.\u001b[39mtext\u001b[38;5;132;01m}\u001b[39;00m\u001b[38;5;124m\"\u001b[39m)\n\u001b[1;32m    211\u001b[0m \u001b[38;5;28;01mreturn\u001b[39;00m \u001b[38;5;28mself\u001b[39m\u001b[38;5;241m.\u001b[39mauthor_id_map[author_name]\n",
      "\u001b[0;31mRuntimeError\u001b[0m: Scopus Author query API error 400: {\"service-error\":{\"status\":{\"statusCode\":\"INVALID_INPUT\",\"statusText\":\"Selected fields are either restricted for this service level or not mapped for this resource.\"}}}"
     ]
    }
   ],
   "source": [
    "from pubman_manager import DOIParser, PubmanBase, PUBLICATIONS_DOIS_DIR\n",
    "import logging\n",
    "# logging.set\n",
    "import unicodedata\n",
    "logger = logging.getLogger('pubman_manager.api_manager_scopus')\n",
    "logger.setLevel(logging.DEBUG)\n",
    "pubman_api = PubmanBase()\n",
    "\n",
    "doi_parser = DOIParser(pubman_api)\n",
    "pubyear_start = 2020\n",
    "author = 'Franz Roters'\n",
    "dois_scopus = doi_parser.scopus_manager.get_dois_for_author(author, pubyear_start=pubyear_start)\n",
    "dois_scopus"
   ]
  },
  {
   "cell_type": "code",
   "execution_count": 1,
   "metadata": {},
   "outputs": [
    {
     "name": "stderr",
     "output_type": "stream",
     "text": [
      "/home/snkrkr/.local/lib/python3.10/site-packages/pandas/core/computation/expressions.py:21: UserWarning: Pandas requires version '2.8.4' or newer of 'numexpr' (version '2.8.1' currently installed).\n",
      "  from pandas.core.computation.check import NUMEXPR_INSTALLED\n",
      "/home/snkrkr/.local/lib/python3.10/site-packages/pandas/core/arrays/masked.py:60: UserWarning: Pandas requires version '1.3.6' or newer of 'bottleneck' (version '1.3.2' currently installed).\n",
      "  from pandas.core import (\n",
      "INFO:root:No auth_token provided, using ENV_USERNAME and ENV_PASSWORD\n",
      "DEBUG:pubman_manager.api_manager_scopus:scopus_metadata {'abstracts-retrieval-response': {'affiliation': [{'affiliation-city': 'Dusseldorf', 'affilname': 'Max-Planck-Institut für Eisenforschung GmbH', 'affiliation-country': 'Germany'}, {'affiliation-city': 'Chicago', 'affilname': 'Rush University Medical Center', 'affiliation-country': 'United States'}], 'coredata': {'srctype': 'j', 'prism:issueIdentifier': '5', 'eid': '2-s2.0-85078792374', 'prism:coverDate': '2020-03-01', 'prism:aggregationType': 'Journal', 'prism:url': 'https://api.elsevier.com/content/abstract/scopus_id/85078792374', 'subtypeDescription': 'Article', 'dc:creator': {'author': [{'ce:given-name': 'Shanoob', 'preferred-name': {'ce:given-name': 'Shanoob', 'ce:initials': 'S.', 'ce:surname': 'Balachandran', 'ce:indexed-name': 'Balachandran S.'}, '@seq': '1', 'ce:initials': 'S.', '@_fa': 'true', 'affiliation': {'@id': '60026606', '@href': 'https://api.elsevier.com/content/affiliation/affiliation_id/60026606'}, 'ce:surname': 'Balachandran', '@auid': '57078134400', 'author-url': 'https://api.elsevier.com/content/author/author_id/57078134400', 'ce:indexed-name': 'Balachandran S.'}]}, 'link': [{'@_fa': 'true', '@rel': 'self', '@href': 'https://api.elsevier.com/content/abstract/scopus_id/85078792374'}, {'@_fa': 'true', '@rel': 'scopus', '@href': 'https://www.scopus.com/inward/record.uri?partnerID=HzOxMe3b&scp=85078792374&origin=inward'}, {'@_fa': 'true', '@rel': 'scopus-citedby', '@href': 'https://www.scopus.com/inward/citedby.uri?partnerID=HzOxMe3b&scp=85078792374&origin=inward'}], 'prism:publicationName': 'Advanced Science', 'source-id': '21100470165', 'citedby-count': '40', 'prism:volume': '7', 'subtype': 'ar', 'dc:title': 'Atomic Scale Origin of Metal Ion Release from Hip Implant Taper Junctions', 'openaccess': '1', 'openaccessFlag': 'true', 'prism:doi': '10.1002/advs.201903008', 'prism:issn': '21983844', 'article-number': '1903008', 'dc:identifier': 'SCOPUS_ID:85078792374', 'dc:publisher': 'John Wiley and Sons Inc.cs-journals@wiley.com'}}}\n",
      "DEBUG:pubman_manager.api_manager_scopus:{'abstracts-retrieval-response': {'affiliation': [{'affiliation-city': 'Dusseldorf', 'affilname': 'Max-Planck-Institut für Eisenforschung GmbH', 'affiliation-country': 'Germany'}, {'affiliation-city': 'Chicago', 'affilname': 'Rush University Medical Center', 'affiliation-country': 'United States'}], 'coredata': {'srctype': 'j', 'prism:issueIdentifier': '5', 'eid': '2-s2.0-85078792374', 'prism:coverDate': '2020-03-01', 'prism:aggregationType': 'Journal', 'prism:url': 'https://api.elsevier.com/content/abstract/scopus_id/85078792374', 'subtypeDescription': 'Article', 'dc:creator': {'author': [{'ce:given-name': 'Shanoob', 'preferred-name': {'ce:given-name': 'Shanoob', 'ce:initials': 'S.', 'ce:surname': 'Balachandran', 'ce:indexed-name': 'Balachandran S.'}, '@seq': '1', 'ce:initials': 'S.', '@_fa': 'true', 'affiliation': {'@id': '60026606', '@href': 'https://api.elsevier.com/content/affiliation/affiliation_id/60026606'}, 'ce:surname': 'Balachandran', '@auid': '57078134400', 'author-url': 'https://api.elsevier.com/content/author/author_id/57078134400', 'ce:indexed-name': 'Balachandran S.'}]}, 'link': [{'@_fa': 'true', '@rel': 'self', '@href': 'https://api.elsevier.com/content/abstract/scopus_id/85078792374'}, {'@_fa': 'true', '@rel': 'scopus', '@href': 'https://www.scopus.com/inward/record.uri?partnerID=HzOxMe3b&scp=85078792374&origin=inward'}, {'@_fa': 'true', '@rel': 'scopus-citedby', '@href': 'https://www.scopus.com/inward/citedby.uri?partnerID=HzOxMe3b&scp=85078792374&origin=inward'}], 'prism:publicationName': 'Advanced Science', 'source-id': '21100470165', 'citedby-count': '40', 'prism:volume': '7', 'subtype': 'ar', 'dc:title': 'Atomic Scale Origin of Metal Ion Release from Hip Implant Taper Junctions', 'openaccess': '1', 'openaccessFlag': 'true', 'prism:doi': '10.1002/advs.201903008', 'prism:issn': '21983844', 'article-number': '1903008', 'dc:identifier': 'SCOPUS_ID:85078792374', 'dc:publisher': 'John Wiley and Sons Inc.cs-journals@wiley.com'}}}\n"
     ]
    },
    {
     "ename": "KeyError",
     "evalue": "'authors'",
     "output_type": "error",
     "traceback": [
      "\u001b[0;31m---------------------------------------------------------------------------\u001b[0m",
      "\u001b[0;31mKeyError\u001b[0m                                  Traceback (most recent call last)",
      "Cell \u001b[0;32mIn[1], line 11\u001b[0m\n\u001b[1;32m      9\u001b[0m doi_parser \u001b[38;5;241m=\u001b[39m DOIParser(pubman_api)\n\u001b[1;32m     10\u001b[0m doi \u001b[38;5;241m=\u001b[39m \u001b[38;5;124m'\u001b[39m\u001b[38;5;124m10.1002/advs.201903008\u001b[39m\u001b[38;5;124m'\u001b[39m\n\u001b[0;32m---> 11\u001b[0m dois_scopus \u001b[38;5;241m=\u001b[39m \u001b[43mdoi_parser\u001b[49m\u001b[38;5;241;43m.\u001b[39;49m\u001b[43mscopus_manager\u001b[49m\u001b[38;5;241;43m.\u001b[39;49m\u001b[43mget_overview\u001b[49m\u001b[43m(\u001b[49m\u001b[43mdoi\u001b[49m\u001b[43m)\u001b[49m\n\u001b[1;32m     12\u001b[0m dois_scopus\n",
      "File \u001b[0;32m/mnt/c/Users/d.mentock/Music/pubman_manager/pubman_manager/api_manager_scopus.py:85\u001b[0m, in \u001b[0;36mScopusManager.get_overview\u001b[0;34m(self, doi)\u001b[0m\n\u001b[1;32m     83\u001b[0m \u001b[38;5;28;01mif\u001b[39;00m publication_date:\n\u001b[1;32m     84\u001b[0m     overview[\u001b[38;5;124m'\u001b[39m\u001b[38;5;124mPublication Date\u001b[39m\u001b[38;5;124m'\u001b[39m] \u001b[38;5;241m=\u001b[39m publication_date\n\u001b[0;32m---> 85\u001b[0m author_affiliation_map \u001b[38;5;241m=\u001b[39m \u001b[38;5;28;43mself\u001b[39;49m\u001b[38;5;241;43m.\u001b[39;49m\u001b[43mextract_authors_affiliations\u001b[49m\u001b[43m(\u001b[49m\u001b[43mscopus_metadata\u001b[49m\u001b[43m)\u001b[49m\n\u001b[1;32m     86\u001b[0m is_mp_publication \u001b[38;5;241m=\u001b[39m \u001b[38;5;28;01mFalse\u001b[39;00m\n\u001b[1;32m     87\u001b[0m \u001b[38;5;28;01mfor\u001b[39;00m affiliations \u001b[38;5;129;01min\u001b[39;00m author_affiliation_map\u001b[38;5;241m.\u001b[39mvalues():\n",
      "File \u001b[0;32m/mnt/c/Users/d.mentock/Music/pubman_manager/pubman_manager/api_manager_scopus.py:131\u001b[0m, in \u001b[0;36mScopusManager.extract_authors_affiliations\u001b[0;34m(self, scopus_metadata)\u001b[0m\n\u001b[1;32m    127\u001b[0m \u001b[38;5;250m\u001b[39m\u001b[38;5;124;03m\"\"\"\u001b[39;00m\n\u001b[1;32m    128\u001b[0m \u001b[38;5;124;03mGenerates an ordered mapping from authors to their affiliations with the Scopus API\u001b[39;00m\n\u001b[1;32m    129\u001b[0m \u001b[38;5;124;03m\"\"\"\u001b[39;00m\n\u001b[1;32m    130\u001b[0m author_affiliation_map \u001b[38;5;241m=\u001b[39m OrderedDict()\n\u001b[0;32m--> 131\u001b[0m authors_list \u001b[38;5;241m=\u001b[39m \u001b[43mscopus_metadata\u001b[49m\u001b[43m[\u001b[49m\u001b[38;5;124;43m'\u001b[39;49m\u001b[38;5;124;43mabstracts-retrieval-response\u001b[39;49m\u001b[38;5;124;43m'\u001b[39;49m\u001b[43m]\u001b[49m\u001b[43m[\u001b[49m\u001b[38;5;124;43m'\u001b[39;49m\u001b[38;5;124;43mauthors\u001b[39;49m\u001b[38;5;124;43m'\u001b[39;49m\u001b[43m]\u001b[49m[\u001b[38;5;124m'\u001b[39m\u001b[38;5;124mauthor\u001b[39m\u001b[38;5;124m'\u001b[39m]\n\u001b[1;32m    132\u001b[0m author_groups \u001b[38;5;241m=\u001b[39m scopus_metadata[\u001b[38;5;124m'\u001b[39m\u001b[38;5;124mabstracts-retrieval-response\u001b[39m\u001b[38;5;124m'\u001b[39m][\u001b[38;5;124m'\u001b[39m\u001b[38;5;124mitem\u001b[39m\u001b[38;5;124m'\u001b[39m][\u001b[38;5;124m'\u001b[39m\u001b[38;5;124mbibrecord\u001b[39m\u001b[38;5;124m'\u001b[39m][\u001b[38;5;124m'\u001b[39m\u001b[38;5;124mhead\u001b[39m\u001b[38;5;124m'\u001b[39m][\u001b[38;5;124m'\u001b[39m\u001b[38;5;124mauthor-group\u001b[39m\u001b[38;5;124m'\u001b[39m]\n\u001b[1;32m    133\u001b[0m \u001b[38;5;28;01mif\u001b[39;00m \u001b[38;5;28misinstance\u001b[39m(author_groups, \u001b[38;5;28mdict\u001b[39m):\n",
      "\u001b[0;31mKeyError\u001b[0m: 'authors'"
     ]
    }
   ],
   "source": [
    "from pubman_manager import DOIParser, PubmanBase, PUBLICATIONS_DOIS_DIR\n",
    "import logging\n",
    "# logging.set\n",
    "import unicodedata\n",
    "logger = logging.getLogger('pubman_manager.api_manager_scopus')\n",
    "logger.setLevel(logging.DEBUG)\n",
    "pubman_api = PubmanBase()\n",
    "\n",
    "doi_parser = DOIParser(pubman_api)\n",
    "doi = '10.1002/advs.201903008'\n",
    "dois_scopus = doi_parser.scopus_manager.get_overview(doi)\n",
    "dois_scopus"
   ]
  },
  {
   "cell_type": "code",
   "execution_count": null,
   "metadata": {},
   "outputs": [],
   "source": [
    "from pubman_manager import DOIParser, PubmanBase, PUBLICATIONS_DOIS_DIR\n",
    "import logging\n",
    "# logging.set\n",
    "import unicodedata\n",
    "logger = logging.getLogger('pubman_manager.api_manager_scopus')\n",
    "logger.setLevel(logging.DEBUG)\n",
    "pubman_api = PubmanBase()\n",
    "\n",
    "doi_parser = DOIParser(pubman_api)\n",
    "doi = '10.1002/advs.201903008'\n",
    "dois_scopus = doi_parser.crossref_manager.get_overview(doi)\n",
    "dois_scopus"
   ]
  }
 ],
 "metadata": {
  "kernelspec": {
   "display_name": "Python 3",
   "language": "python",
   "name": "python3"
  },
  "language_info": {
   "codemirror_mode": {
    "name": "ipython",
    "version": 3
   },
   "file_extension": ".py",
   "mimetype": "text/x-python",
   "name": "python",
   "nbconvert_exporter": "python",
   "pygments_lexer": "ipython3",
   "version": "3.10.12"
  }
 },
 "nbformat": 4,
 "nbformat_minor": 2
}
