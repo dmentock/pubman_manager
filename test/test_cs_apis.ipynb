{
 "cells": [
  {
   "cell_type": "code",
   "execution_count": 1,
   "metadata": {},
   "outputs": [
    {
     "name": "stderr",
     "output_type": "stream",
     "text": [
      "/home/localadmin/.local/lib/python3.12/site-packages/fuzzywuzzy/fuzz.py:11: UserWarning: Using slow pure-python SequenceMatcher. Install python-Levenshtein to remove this warning\n",
      "  warnings.warn('Using slow pure-python SequenceMatcher. Install python-Levenshtein to remove this warning')\n",
      "INFO:root:No auth_token provided, using ENV_USERNAME and ENV_PASSWORD\n"
     ]
    },
    {
     "data": {
      "text/plain": [
       "['10.1088/1361-651x/ab7f8c',\n",
       " '10.1016/j.ijsolstr.2022.111801',\n",
       " '10.1016/j.ijplas.2019.09.004',\n",
       " '10.26434/chemrxiv-2024-2h7kn-v2',\n",
       " '10.26434/chemrxiv-2024-2h7kn',\n",
       " '10.1038/s41467-024-52123-w',\n",
       " '10.1016/j.actamat.2022.118444',\n",
       " '10.1016/j.actamat.2019.12.003',\n",
       " '10.1016/j.jmatprotec.2019.116449',\n",
       " '10.3390/ma14030691',\n",
       " '10.1016/j.actamat.2022.118167',\n",
       " '10.1007/s11661-022-06710-5',\n",
       " '10.1016/j.actamat.2023.119043',\n",
       " '10.1007/s11661-022-06846-4',\n",
       " '10.1016/j.mechmat.2021.104117',\n",
       " '10.2139/ssrn.4051534',\n",
       " '10.1016/j.ijplas.2021.103078',\n",
       " '10.3390/cryst13040673',\n",
       " '10.1088/1361-651x/ab71c0',\n",
       " '10.1007/s11661-024-07472-y',\n",
       " '10.1016/j.msea.2023.145373',\n",
       " '10.1002/adem.201901044',\n",
       " '10.1038/s41524-022-00764-0',\n",
       " '10.1557/s43578-023-01082-x']"
      ]
     },
     "execution_count": 1,
     "metadata": {},
     "output_type": "execute_result"
    }
   ],
   "source": [
    "from pubman_manager import DOIParser, PubmanBase, PUBLICATIONS_DOIS_DIR\n",
    "import logging\n",
    "# logging.set\n",
    "import unicodedata\n",
    "logger = logging.getLogger('pubman_manager.api_manager_scopus')\n",
    "logger.setLevel(logging.DEBUG)\n",
    "pubman_api = PubmanBase()\n",
    "\n",
    "doi_parser = DOIParser(pubman_api)\n",
    "pubyear_start = 2020\n",
    "author = 'Franz Roters'\n",
    "dois_scopus = doi_parser.crossref_manager.get_dois_for_author(author, pubyear_start=pubyear_start)\n",
    "dois_scopus"
   ]
  },
  {
   "cell_type": "code",
   "execution_count": 1,
   "metadata": {},
   "outputs": [
    {
     "name": "stderr",
     "output_type": "stream",
     "text": [
      "/home/localadmin/.local/lib/python3.12/site-packages/fuzzywuzzy/fuzz.py:11: UserWarning: Using slow pure-python SequenceMatcher. Install python-Levenshtein to remove this warning\n",
      "  warnings.warn('Using slow pure-python SequenceMatcher. Install python-Levenshtein to remove this warning')\n",
      "INFO:root:No auth_token provided, using ENV_USERNAME and ENV_PASSWORD\n",
      "DEBUG:pubman_manager.api_manager_scopus:Making Scopus request 0: headers={'X-ELS-APIKey': 'b94ab101ece6e10e5528612fa9fe5bd7', 'Accept': 'application/json'}, params={'query': 'AF-ID(60026606) AND AUTHFIRST(\"F.\") AND AUTHOR-NAME(\"Roters\") AND PUBYEAR > 2019', 'field': 'doi', 'count': 200, 'start': 0}\n",
      "DEBUG:pubman_manager.api_manager_scopus:Scopus response: 200\n",
      "DEBUG:pubman_manager.api_manager_scopus:Scopus data: {'search-results': {'opensearch:totalResults': '26', 'opensearch:startIndex': '0', 'opensearch:itemsPerPage': '26', 'opensearch:Query': {'@role': 'request', '@searchTerms': 'AF-ID(60026606) AND AUTHFIRST(\"F.\") AND AUTHOR-NAME(\"Roters\") AND PUBYEAR > 2019', '@startPage': '0'}, 'link': [{'@_fa': 'true', '@ref': 'self', '@href': 'https://api.elsevier.com/content/search/scopus?start=0&count=200&query=AF-ID%2860026606%29+AND+AUTHFIRST%28%22F.%22%29+AND+AUTHOR-NAME%28%22Roters%22%29+AND+PUBYEAR+%3E+2019&field=doi', '@type': 'application/json'}, {'@_fa': 'true', '@ref': 'first', '@href': 'https://api.elsevier.com/content/search/scopus?start=0&count=200&query=AF-ID%2860026606%29+AND+AUTHFIRST%28%22F.%22%29+AND+AUTHOR-NAME%28%22Roters%22%29+AND+PUBYEAR+%3E+2019&field=doi', '@type': 'application/json'}], 'entry': [{'@_fa': 'true', 'prism:url': 'https://api.elsevier.com/content/abstract/scopus_id/85197140792', 'prism:doi': '10.1007/s11661-024-07472-y'}, {'@_fa': 'true', 'prism:url': 'https://api.elsevier.com/content/abstract/scopus_id/85161020635', 'prism:doi': '10.1016/j.actamat.2023.119043'}, {'@_fa': 'true', 'prism:url': 'https://api.elsevier.com/content/abstract/scopus_id/85163013692', 'prism:doi': '10.1557/s43578-023-01082-x'}, {'@_fa': 'true', 'prism:url': 'https://api.elsevier.com/content/abstract/scopus_id/85164284125', 'prism:doi': '10.1016/j.msea.2023.145373'}, {'@_fa': 'true', 'prism:url': 'https://api.elsevier.com/content/abstract/scopus_id/85156142815', 'prism:doi': '10.3390/cryst13040673'}, {'@_fa': 'true', 'prism:url': 'https://api.elsevier.com/content/abstract/scopus_id/85140839777', 'prism:doi': '10.1007/s11661-022-06846-4'}, {'@_fa': 'true', 'prism:url': 'https://api.elsevier.com/content/abstract/scopus_id/85140712105', 'prism:doi': '10.1016/j.actamat.2022.118444'}, {'@_fa': 'true', 'prism:url': 'https://api.elsevier.com/content/abstract/scopus_id/85128946051', 'prism:doi': '10.1038/s41524-022-00764-0'}, {'@_fa': 'true', 'prism:url': 'https://api.elsevier.com/content/abstract/scopus_id/85132762567', 'prism:doi': '10.1016/j.ijsolstr.2022.111801'}, {'@_fa': 'true', 'prism:url': 'https://api.elsevier.com/content/abstract/scopus_id/85135112882', 'prism:doi': '10.1016/j.actamat.2022.118167'}, {'@_fa': 'true', 'prism:url': 'https://api.elsevier.com/content/abstract/scopus_id/85138989956', 'prism:doi': '10.1016/j.msea.2022.143471'}, {'@_fa': 'true', 'prism:url': 'https://api.elsevier.com/content/abstract/scopus_id/85129786334', 'prism:doi': '10.1007/s11661-022-06710-5'}, {'@_fa': 'true', 'prism:url': 'https://api.elsevier.com/content/abstract/scopus_id/85119090538', 'prism:doi': '10.1016/j.mechmat.2021.104117'}, {'@_fa': 'true', 'prism:url': 'https://api.elsevier.com/content/abstract/scopus_id/85113272666', 'prism:doi': '10.1016/j.ijplas.2021.103078'}, {'@_fa': 'true', 'prism:url': 'https://api.elsevier.com/content/abstract/scopus_id/85098938466', 'prism:doi': '10.1016/j.engfracmech.2020.107516'}, {'@_fa': 'true', 'prism:url': 'https://api.elsevier.com/content/abstract/scopus_id/85100457615', 'prism:doi': '10.3390/ma14030691'}, {'@_fa': 'true', 'prism:url': 'https://api.elsevier.com/content/abstract/scopus_id/85090311812', 'prism:doi': '10.1016/j.ijplas.2020.102779'}, {'@_fa': 'true', 'prism:url': 'https://api.elsevier.com/content/abstract/scopus_id/85090308342', 'prism:doi': '10.1007/s11661-020-05947-2'}, {'@_fa': 'true', 'prism:url': 'https://api.elsevier.com/content/abstract/scopus_id/85095745194', 'prism:doi': '10.1088/1361-651X/abb8e2'}, {'@_fa': 'true', 'prism:url': 'https://api.elsevier.com/content/abstract/scopus_id/85086078292', 'prism:doi': '10.1088/1361-651X/ab7f8c'}, {'@_fa': 'true', 'prism:url': 'https://api.elsevier.com/content/abstract/scopus_id/85076725897', 'prism:doi': '10.1007/s00466-019-01801-4'}, {'@_fa': 'true', 'prism:url': 'https://api.elsevier.com/content/abstract/scopus_id/85079365278', 'prism:doi': '10.1002/adem.201901044'}, {'@_fa': 'true', 'prism:url': 'https://api.elsevier.com/content/abstract/scopus_id/85073215271', 'prism:doi': '10.1016/j.jmatprotec.2019.116449'}, {'@_fa': 'true', 'prism:url': 'https://api.elsevier.com/content/abstract/scopus_id/85076705390', 'prism:doi': '10.1016/j.actamat.2019.12.003'}, {'@_fa': 'true', 'prism:url': 'https://api.elsevier.com/content/abstract/scopus_id/85072772004', 'prism:doi': '10.1016/j.ijplas.2019.09.004'}, {'@_fa': 'true', 'prism:url': 'https://api.elsevier.com/content/abstract/scopus_id/85082801161', 'prism:doi': '10.1088/1361-651X/ab71c0'}]}}\n"
     ]
    },
    {
     "data": {
      "text/plain": [
       "['10.1007/s11661-024-07472-y',\n",
       " '10.1016/j.actamat.2023.119043',\n",
       " '10.1557/s43578-023-01082-x',\n",
       " '10.1016/j.msea.2023.145373',\n",
       " '10.3390/cryst13040673',\n",
       " '10.1007/s11661-022-06846-4',\n",
       " '10.1016/j.actamat.2022.118444',\n",
       " '10.1038/s41524-022-00764-0',\n",
       " '10.1016/j.ijsolstr.2022.111801',\n",
       " '10.1016/j.actamat.2022.118167',\n",
       " '10.1016/j.msea.2022.143471',\n",
       " '10.1007/s11661-022-06710-5',\n",
       " '10.1016/j.mechmat.2021.104117',\n",
       " '10.1016/j.ijplas.2021.103078',\n",
       " '10.1016/j.engfracmech.2020.107516',\n",
       " '10.3390/ma14030691',\n",
       " '10.1016/j.ijplas.2020.102779',\n",
       " '10.1007/s11661-020-05947-2',\n",
       " '10.1088/1361-651X/abb8e2',\n",
       " '10.1088/1361-651X/ab7f8c',\n",
       " '10.1007/s00466-019-01801-4',\n",
       " '10.1002/adem.201901044',\n",
       " '10.1016/j.jmatprotec.2019.116449',\n",
       " '10.1016/j.actamat.2019.12.003',\n",
       " '10.1016/j.ijplas.2019.09.004',\n",
       " '10.1088/1361-651X/ab71c0']"
      ]
     },
     "execution_count": 1,
     "metadata": {},
     "output_type": "execute_result"
    }
   ],
   "source": [
    "from pubman_manager import DOIParser, PubmanBase, PUBLICATIONS_DOIS_DIR\n",
    "import logging\n",
    "# logging.set\n",
    "import unicodedata\n",
    "logger = logging.getLogger('pubman_manager.api_manager_scopus')\n",
    "logger.setLevel(logging.DEBUG)\n",
    "pubman_api = PubmanBase()\n",
    "\n",
    "doi_parser = DOIParser(pubman_api)\n",
    "pubyear_start = 2020\n",
    "author = 'Franz Roters'\n",
    "dois_scopus = doi_parser.scopus_manager.get_dois_for_author(author, pubyear_start=pubyear_start)\n",
    "dois_scopus"
   ]
  },
  {
   "cell_type": "code",
   "execution_count": null,
   "metadata": {},
   "outputs": [],
   "source": [
    "from pubman_manager import DOIParser, PubmanBase, PUBLICATIONS_DOIS_DIR\n",
    "import logging\n",
    "# logging.set\n",
    "import unicodedata\n",
    "logger = logging.getLogger('pubman_manager.api_manager_scopus')\n",
    "logger.setLevel(logging.DEBUG)\n",
    "pubman_api = PubmanBase()\n",
    "\n",
    "doi_parser = DOIParser(pubman_api)\n",
    "doi = '10.1002/advs.201903008'\n",
    "dois_scopus = doi_parser.crossref_manager.get_overview(doi)\n",
    "dois_scopus"
   ]
  }
 ],
 "metadata": {
  "kernelspec": {
   "display_name": "Python 3",
   "language": "python",
   "name": "python3"
  },
  "language_info": {
   "codemirror_mode": {
    "name": "ipython",
    "version": 3
   },
   "file_extension": ".py",
   "mimetype": "text/x-python",
   "name": "python",
   "nbconvert_exporter": "python",
   "pygments_lexer": "ipython3",
   "version": "3.12.3"
  }
 },
 "nbformat": 4,
 "nbformat_minor": 2
}
