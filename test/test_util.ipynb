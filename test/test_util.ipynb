{
 "cells": [
  {
   "cell_type": "code",
   "execution_count": 1,
   "id": "ae5601a0",
   "metadata": {},
   "outputs": [
    {
     "name": "stderr",
     "output_type": "stream",
     "text": [
      "/home/snkrkr/.local/lib/python3.10/site-packages/pandas/core/computation/expressions.py:21: UserWarning: Pandas requires version '2.8.4' or newer of 'numexpr' (version '2.8.1' currently installed).\n",
      "  from pandas.core.computation.check import NUMEXPR_INSTALLED\n",
      "/home/snkrkr/.local/lib/python3.10/site-packages/pandas/core/arrays/masked.py:60: UserWarning: Pandas requires version '1.3.6' or newer of 'bottleneck' (version '1.3.2' currently installed).\n",
      "  from pandas.core import (\n"
     ]
    },
    {
     "name": "stdout",
     "output_type": "stream",
     "text": [
      "True\n",
      "True\n",
      "True\n",
      "True\n"
     ]
    }
   ],
   "source": [
    "from pubman_manager.util import is_mpi_affiliation\n",
    "\n",
    "\n",
    "print(is_mpi_affiliation('1Max Planck Institute for Sustainable Materials, Dusseldorf, Germany; email: d.raabe@mpie.de, y.ma@mpie.de'))\n",
    "print(is_mpi_affiliation('Max Planck-Institut für Eisenforschung, Max-Planck-Str. 1, 40237 Düsseldorf, Germany'))\n",
    "print(is_mpi_affiliation('Max-Planck-Institut für Eisenforschung, Max-Planck-Str. 1, 40237 Düsseldorf, Germany'))\n",
    "print(is_mpi_affiliation('Max Plank-Institut für Eisenforschung, Max-Planck-Str. 1, 40237 Düsseldorf, Germany'))"
   ]
  },
  {
   "cell_type": "code",
   "execution_count": null,
   "id": "3efb3ccd",
   "metadata": {},
   "outputs": [],
   "source": []
  }
 ],
 "metadata": {
  "kernelspec": {
   "display_name": "Python 3",
   "language": "python",
   "name": "python3"
  },
  "language_info": {
   "codemirror_mode": {
    "name": "ipython",
    "version": 3
   },
   "file_extension": ".py",
   "mimetype": "text/x-python",
   "name": "python",
   "nbconvert_exporter": "python",
   "pygments_lexer": "ipython3",
   "version": "3.10.12"
  }
 },
 "nbformat": 4,
 "nbformat_minor": 5
}
