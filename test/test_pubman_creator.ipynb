{
 "cells": [
  {
   "cell_type": "markdown",
   "metadata": {},
   "source": [
    "Test process_affiliations"
   ]
  },
  {
   "cell_type": "code",
   "execution_count": 2,
   "metadata": {},
   "outputs": [
    {
     "name": "stdout",
     "output_type": "stream",
     "text": [
      "Korea Univ, Dept Mat Sci & Engn, Seoul 02841, South Korea\n",
      "Department of Materials Science and Engineering, Korea University, Seoul 02841, Republic of Korea\n",
      "Department of Materials Science and Engineering, Korea University, 02841 Seoul, Republic of Korea\n",
      "Department of Materials Science and Engineering, Korea Advanced Institute of Science and Technology (KAIST), Daejeon, Republic of Korea\n",
      "Key Laboratory of Pressure Systems and Safety, Ministry of Education, School of Mechanical and Power Engineering, East China University of Science and Technology, 200237 Shanghai, China.\n",
      "Für eisen\n"
     ]
    }
   ],
   "source": [
    "from pubman_manager import PubmanCreator, PUBLICATIONS_DOIS_DIR\n",
    "import os\n",
    "from dotenv import load_dotenv\n",
    "\n",
    "load_dotenv()\n",
    "scopus_api_key = os.getenv(\"SCOPUS_API_KEY\")\n",
    "username = os.getenv(\"USERNAME\")\n",
    "password = os.getenv(\"PASSWORD\")\n",
    "pubman_api = PubmanCreator(username, password)\n",
    "\n",
    "affiliations_list =  [\n",
    "  'Korea Univ, Dept Mat Sci & Engn, Seoul 02841, South Korea',\n",
    "  'Department of Materials Science and Engineering, Korea University, Seoul 02841,\\n Republic of Korea',\n",
    "  'Department of Materials Science and Engineering, Korea University, 02841 Seoul, Republic of Korea',\n",
    "  'Department of Materials Science and Engineering, Korea Advanced Institute of Science and Technology (KAIST), Daejeon, Republic of Korea',\n",
    "  'Key Laboratory of Pressure Systems and Safety, Ministry of Education, School of Mechanical_x000D_ and Power Engineering, East China University of Science and Technology, 200237 Shanghai, China.',\n",
    "  'Für eisen',\n",
    "  ]\n",
    "\n",
    "for affiliation in affiliations_list:\n",
    "    print(pubman_api.clean_affiliation(affiliation))"
   ]
  },
  {
   "cell_type": "markdown",
   "metadata": {},
   "source": []
  }
 ],
 "metadata": {
  "kernelspec": {
   "display_name": "Python 3",
   "language": "python",
   "name": "python3"
  },
  "language_info": {
   "codemirror_mode": {
    "name": "ipython",
    "version": 3
   },
   "file_extension": ".py",
   "mimetype": "text/x-python",
   "name": "python",
   "nbconvert_exporter": "python",
   "pygments_lexer": "ipython3",
   "version": "3.11.undefined"
  }
 },
 "nbformat": 4,
 "nbformat_minor": 2
}
